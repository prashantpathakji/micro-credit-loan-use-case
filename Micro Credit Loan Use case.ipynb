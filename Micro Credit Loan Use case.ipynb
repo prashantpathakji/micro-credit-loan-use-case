{
 "cells": [
  {
   "cell_type": "markdown",
   "metadata": {},
   "source": [
    "# Let's Start.."
   ]
  },
  {
   "cell_type": "code",
   "execution_count": 8,
   "metadata": {},
   "outputs": [],
   "source": [
    "import pandas as pd\n",
    "import numpy as np\n",
    "import seaborn as sns\n",
    "import matplotlib.pyplot as plt\n",
    "import warnings\n",
    "warnings.filterwarnings('ignore')\n",
    "pd.set_option('display.max_columns',None)\n",
    "pd.set_option('display.max_rows',None)"
   ]
  },
  {
   "cell_type": "markdown",
   "metadata": {},
   "source": [
    "# Importing Dataset"
   ]
  },
  {
   "cell_type": "code",
   "execution_count": 9,
   "metadata": {},
   "outputs": [],
   "source": [
    "df=pd.read_csv('Data file.csv')"
   ]
  },
  {
   "cell_type": "markdown",
   "metadata": {},
   "source": [
    "# Data Exploration"
   ]
  },
  {
   "cell_type": "code",
   "execution_count": 10,
   "metadata": {},
   "outputs": [
    {
     "data": {
      "text/html": [
       "<div>\n",
       "<style scoped>\n",
       "    .dataframe tbody tr th:only-of-type {\n",
       "        vertical-align: middle;\n",
       "    }\n",
       "\n",
       "    .dataframe tbody tr th {\n",
       "        vertical-align: top;\n",
       "    }\n",
       "\n",
       "    .dataframe thead th {\n",
       "        text-align: right;\n",
       "    }\n",
       "</style>\n",
       "<table border=\"1\" class=\"dataframe\">\n",
       "  <thead>\n",
       "    <tr style=\"text-align: right;\">\n",
       "      <th></th>\n",
       "      <th>Unnamed: 0</th>\n",
       "      <th>label</th>\n",
       "      <th>msisdn</th>\n",
       "      <th>aon</th>\n",
       "      <th>daily_decr30</th>\n",
       "      <th>daily_decr90</th>\n",
       "      <th>rental30</th>\n",
       "      <th>rental90</th>\n",
       "      <th>last_rech_date_ma</th>\n",
       "      <th>last_rech_date_da</th>\n",
       "      <th>last_rech_amt_ma</th>\n",
       "      <th>cnt_ma_rech30</th>\n",
       "      <th>fr_ma_rech30</th>\n",
       "      <th>sumamnt_ma_rech30</th>\n",
       "      <th>medianamnt_ma_rech30</th>\n",
       "      <th>medianmarechprebal30</th>\n",
       "      <th>cnt_ma_rech90</th>\n",
       "      <th>fr_ma_rech90</th>\n",
       "      <th>sumamnt_ma_rech90</th>\n",
       "      <th>medianamnt_ma_rech90</th>\n",
       "      <th>medianmarechprebal90</th>\n",
       "      <th>cnt_da_rech30</th>\n",
       "      <th>fr_da_rech30</th>\n",
       "      <th>cnt_da_rech90</th>\n",
       "      <th>fr_da_rech90</th>\n",
       "      <th>cnt_loans30</th>\n",
       "      <th>amnt_loans30</th>\n",
       "      <th>maxamnt_loans30</th>\n",
       "      <th>medianamnt_loans30</th>\n",
       "      <th>cnt_loans90</th>\n",
       "      <th>amnt_loans90</th>\n",
       "      <th>maxamnt_loans90</th>\n",
       "      <th>medianamnt_loans90</th>\n",
       "      <th>payback30</th>\n",
       "      <th>payback90</th>\n",
       "      <th>pcircle</th>\n",
       "      <th>pdate</th>\n",
       "    </tr>\n",
       "  </thead>\n",
       "  <tbody>\n",
       "    <tr>\n",
       "      <th>0</th>\n",
       "      <td>1</td>\n",
       "      <td>0</td>\n",
       "      <td>21408I70789</td>\n",
       "      <td>272.0</td>\n",
       "      <td>3055.050000</td>\n",
       "      <td>3065.150000</td>\n",
       "      <td>220.13</td>\n",
       "      <td>260.13</td>\n",
       "      <td>2.0</td>\n",
       "      <td>0.0</td>\n",
       "      <td>1539</td>\n",
       "      <td>2</td>\n",
       "      <td>21.0</td>\n",
       "      <td>3078.0</td>\n",
       "      <td>1539.0</td>\n",
       "      <td>7.50</td>\n",
       "      <td>2</td>\n",
       "      <td>21</td>\n",
       "      <td>3078</td>\n",
       "      <td>1539.0</td>\n",
       "      <td>7.50</td>\n",
       "      <td>0.0</td>\n",
       "      <td>0.0</td>\n",
       "      <td>0</td>\n",
       "      <td>0</td>\n",
       "      <td>2</td>\n",
       "      <td>12</td>\n",
       "      <td>6.0</td>\n",
       "      <td>0.0</td>\n",
       "      <td>2.0</td>\n",
       "      <td>12</td>\n",
       "      <td>6</td>\n",
       "      <td>0.0</td>\n",
       "      <td>29.000000</td>\n",
       "      <td>29.000000</td>\n",
       "      <td>UPW</td>\n",
       "      <td>2016-07-20</td>\n",
       "    </tr>\n",
       "    <tr>\n",
       "      <th>1</th>\n",
       "      <td>2</td>\n",
       "      <td>1</td>\n",
       "      <td>76462I70374</td>\n",
       "      <td>712.0</td>\n",
       "      <td>12122.000000</td>\n",
       "      <td>12124.750000</td>\n",
       "      <td>3691.26</td>\n",
       "      <td>3691.26</td>\n",
       "      <td>20.0</td>\n",
       "      <td>0.0</td>\n",
       "      <td>5787</td>\n",
       "      <td>1</td>\n",
       "      <td>0.0</td>\n",
       "      <td>5787.0</td>\n",
       "      <td>5787.0</td>\n",
       "      <td>61.04</td>\n",
       "      <td>1</td>\n",
       "      <td>0</td>\n",
       "      <td>5787</td>\n",
       "      <td>5787.0</td>\n",
       "      <td>61.04</td>\n",
       "      <td>0.0</td>\n",
       "      <td>0.0</td>\n",
       "      <td>0</td>\n",
       "      <td>0</td>\n",
       "      <td>1</td>\n",
       "      <td>12</td>\n",
       "      <td>12.0</td>\n",
       "      <td>0.0</td>\n",
       "      <td>1.0</td>\n",
       "      <td>12</td>\n",
       "      <td>12</td>\n",
       "      <td>0.0</td>\n",
       "      <td>0.000000</td>\n",
       "      <td>0.000000</td>\n",
       "      <td>UPW</td>\n",
       "      <td>2016-08-10</td>\n",
       "    </tr>\n",
       "    <tr>\n",
       "      <th>2</th>\n",
       "      <td>3</td>\n",
       "      <td>1</td>\n",
       "      <td>17943I70372</td>\n",
       "      <td>535.0</td>\n",
       "      <td>1398.000000</td>\n",
       "      <td>1398.000000</td>\n",
       "      <td>900.13</td>\n",
       "      <td>900.13</td>\n",
       "      <td>3.0</td>\n",
       "      <td>0.0</td>\n",
       "      <td>1539</td>\n",
       "      <td>1</td>\n",
       "      <td>0.0</td>\n",
       "      <td>1539.0</td>\n",
       "      <td>1539.0</td>\n",
       "      <td>66.32</td>\n",
       "      <td>1</td>\n",
       "      <td>0</td>\n",
       "      <td>1539</td>\n",
       "      <td>1539.0</td>\n",
       "      <td>66.32</td>\n",
       "      <td>0.0</td>\n",
       "      <td>0.0</td>\n",
       "      <td>0</td>\n",
       "      <td>0</td>\n",
       "      <td>1</td>\n",
       "      <td>6</td>\n",
       "      <td>6.0</td>\n",
       "      <td>0.0</td>\n",
       "      <td>1.0</td>\n",
       "      <td>6</td>\n",
       "      <td>6</td>\n",
       "      <td>0.0</td>\n",
       "      <td>0.000000</td>\n",
       "      <td>0.000000</td>\n",
       "      <td>UPW</td>\n",
       "      <td>2016-08-19</td>\n",
       "    </tr>\n",
       "    <tr>\n",
       "      <th>3</th>\n",
       "      <td>4</td>\n",
       "      <td>1</td>\n",
       "      <td>55773I70781</td>\n",
       "      <td>241.0</td>\n",
       "      <td>21.228000</td>\n",
       "      <td>21.228000</td>\n",
       "      <td>159.42</td>\n",
       "      <td>159.42</td>\n",
       "      <td>41.0</td>\n",
       "      <td>0.0</td>\n",
       "      <td>947</td>\n",
       "      <td>0</td>\n",
       "      <td>0.0</td>\n",
       "      <td>0.0</td>\n",
       "      <td>0.0</td>\n",
       "      <td>0.00</td>\n",
       "      <td>1</td>\n",
       "      <td>0</td>\n",
       "      <td>947</td>\n",
       "      <td>947.0</td>\n",
       "      <td>2.50</td>\n",
       "      <td>0.0</td>\n",
       "      <td>0.0</td>\n",
       "      <td>0</td>\n",
       "      <td>0</td>\n",
       "      <td>2</td>\n",
       "      <td>12</td>\n",
       "      <td>6.0</td>\n",
       "      <td>0.0</td>\n",
       "      <td>2.0</td>\n",
       "      <td>12</td>\n",
       "      <td>6</td>\n",
       "      <td>0.0</td>\n",
       "      <td>0.000000</td>\n",
       "      <td>0.000000</td>\n",
       "      <td>UPW</td>\n",
       "      <td>2016-06-06</td>\n",
       "    </tr>\n",
       "    <tr>\n",
       "      <th>4</th>\n",
       "      <td>5</td>\n",
       "      <td>1</td>\n",
       "      <td>03813I82730</td>\n",
       "      <td>947.0</td>\n",
       "      <td>150.619333</td>\n",
       "      <td>150.619333</td>\n",
       "      <td>1098.90</td>\n",
       "      <td>1098.90</td>\n",
       "      <td>4.0</td>\n",
       "      <td>0.0</td>\n",
       "      <td>2309</td>\n",
       "      <td>7</td>\n",
       "      <td>2.0</td>\n",
       "      <td>20029.0</td>\n",
       "      <td>2309.0</td>\n",
       "      <td>29.00</td>\n",
       "      <td>8</td>\n",
       "      <td>2</td>\n",
       "      <td>23496</td>\n",
       "      <td>2888.0</td>\n",
       "      <td>35.00</td>\n",
       "      <td>0.0</td>\n",
       "      <td>0.0</td>\n",
       "      <td>0</td>\n",
       "      <td>0</td>\n",
       "      <td>7</td>\n",
       "      <td>42</td>\n",
       "      <td>6.0</td>\n",
       "      <td>0.0</td>\n",
       "      <td>7.0</td>\n",
       "      <td>42</td>\n",
       "      <td>6</td>\n",
       "      <td>0.0</td>\n",
       "      <td>2.333333</td>\n",
       "      <td>2.333333</td>\n",
       "      <td>UPW</td>\n",
       "      <td>2016-06-22</td>\n",
       "    </tr>\n",
       "  </tbody>\n",
       "</table>\n",
       "</div>"
      ],
      "text/plain": [
       "   Unnamed: 0  label       msisdn    aon  daily_decr30  daily_decr90  \\\n",
       "0           1      0  21408I70789  272.0   3055.050000   3065.150000   \n",
       "1           2      1  76462I70374  712.0  12122.000000  12124.750000   \n",
       "2           3      1  17943I70372  535.0   1398.000000   1398.000000   \n",
       "3           4      1  55773I70781  241.0     21.228000     21.228000   \n",
       "4           5      1  03813I82730  947.0    150.619333    150.619333   \n",
       "\n",
       "   rental30  rental90  last_rech_date_ma  last_rech_date_da  last_rech_amt_ma  \\\n",
       "0    220.13    260.13                2.0                0.0              1539   \n",
       "1   3691.26   3691.26               20.0                0.0              5787   \n",
       "2    900.13    900.13                3.0                0.0              1539   \n",
       "3    159.42    159.42               41.0                0.0               947   \n",
       "4   1098.90   1098.90                4.0                0.0              2309   \n",
       "\n",
       "   cnt_ma_rech30  fr_ma_rech30  sumamnt_ma_rech30  medianamnt_ma_rech30  \\\n",
       "0              2          21.0             3078.0                1539.0   \n",
       "1              1           0.0             5787.0                5787.0   \n",
       "2              1           0.0             1539.0                1539.0   \n",
       "3              0           0.0                0.0                   0.0   \n",
       "4              7           2.0            20029.0                2309.0   \n",
       "\n",
       "   medianmarechprebal30  cnt_ma_rech90  fr_ma_rech90  sumamnt_ma_rech90  \\\n",
       "0                  7.50              2            21               3078   \n",
       "1                 61.04              1             0               5787   \n",
       "2                 66.32              1             0               1539   \n",
       "3                  0.00              1             0                947   \n",
       "4                 29.00              8             2              23496   \n",
       "\n",
       "   medianamnt_ma_rech90  medianmarechprebal90  cnt_da_rech30  fr_da_rech30  \\\n",
       "0                1539.0                  7.50            0.0           0.0   \n",
       "1                5787.0                 61.04            0.0           0.0   \n",
       "2                1539.0                 66.32            0.0           0.0   \n",
       "3                 947.0                  2.50            0.0           0.0   \n",
       "4                2888.0                 35.00            0.0           0.0   \n",
       "\n",
       "   cnt_da_rech90  fr_da_rech90  cnt_loans30  amnt_loans30  maxamnt_loans30  \\\n",
       "0              0             0            2            12              6.0   \n",
       "1              0             0            1            12             12.0   \n",
       "2              0             0            1             6              6.0   \n",
       "3              0             0            2            12              6.0   \n",
       "4              0             0            7            42              6.0   \n",
       "\n",
       "   medianamnt_loans30  cnt_loans90  amnt_loans90  maxamnt_loans90  \\\n",
       "0                 0.0          2.0            12                6   \n",
       "1                 0.0          1.0            12               12   \n",
       "2                 0.0          1.0             6                6   \n",
       "3                 0.0          2.0            12                6   \n",
       "4                 0.0          7.0            42                6   \n",
       "\n",
       "   medianamnt_loans90  payback30  payback90 pcircle       pdate  \n",
       "0                 0.0  29.000000  29.000000     UPW  2016-07-20  \n",
       "1                 0.0   0.000000   0.000000     UPW  2016-08-10  \n",
       "2                 0.0   0.000000   0.000000     UPW  2016-08-19  \n",
       "3                 0.0   0.000000   0.000000     UPW  2016-06-06  \n",
       "4                 0.0   2.333333   2.333333     UPW  2016-06-22  "
      ]
     },
     "execution_count": 10,
     "metadata": {},
     "output_type": "execute_result"
    }
   ],
   "source": [
    "df.head()"
   ]
  },
  {
   "cell_type": "code",
   "execution_count": 11,
   "metadata": {},
   "outputs": [
    {
     "data": {
      "text/html": [
       "<div>\n",
       "<style scoped>\n",
       "    .dataframe tbody tr th:only-of-type {\n",
       "        vertical-align: middle;\n",
       "    }\n",
       "\n",
       "    .dataframe tbody tr th {\n",
       "        vertical-align: top;\n",
       "    }\n",
       "\n",
       "    .dataframe thead th {\n",
       "        text-align: right;\n",
       "    }\n",
       "</style>\n",
       "<table border=\"1\" class=\"dataframe\">\n",
       "  <thead>\n",
       "    <tr style=\"text-align: right;\">\n",
       "      <th></th>\n",
       "      <th>Unnamed: 0</th>\n",
       "      <th>label</th>\n",
       "      <th>aon</th>\n",
       "      <th>daily_decr30</th>\n",
       "      <th>daily_decr90</th>\n",
       "      <th>rental30</th>\n",
       "      <th>rental90</th>\n",
       "      <th>last_rech_date_ma</th>\n",
       "      <th>last_rech_date_da</th>\n",
       "      <th>last_rech_amt_ma</th>\n",
       "      <th>cnt_ma_rech30</th>\n",
       "      <th>fr_ma_rech30</th>\n",
       "      <th>sumamnt_ma_rech30</th>\n",
       "      <th>medianamnt_ma_rech30</th>\n",
       "      <th>medianmarechprebal30</th>\n",
       "      <th>cnt_ma_rech90</th>\n",
       "      <th>fr_ma_rech90</th>\n",
       "      <th>sumamnt_ma_rech90</th>\n",
       "      <th>medianamnt_ma_rech90</th>\n",
       "      <th>medianmarechprebal90</th>\n",
       "      <th>cnt_da_rech30</th>\n",
       "      <th>fr_da_rech30</th>\n",
       "      <th>cnt_da_rech90</th>\n",
       "      <th>fr_da_rech90</th>\n",
       "      <th>cnt_loans30</th>\n",
       "      <th>amnt_loans30</th>\n",
       "      <th>maxamnt_loans30</th>\n",
       "      <th>medianamnt_loans30</th>\n",
       "      <th>cnt_loans90</th>\n",
       "      <th>amnt_loans90</th>\n",
       "      <th>maxamnt_loans90</th>\n",
       "      <th>medianamnt_loans90</th>\n",
       "      <th>payback30</th>\n",
       "      <th>payback90</th>\n",
       "    </tr>\n",
       "  </thead>\n",
       "  <tbody>\n",
       "    <tr>\n",
       "      <th>count</th>\n",
       "      <td>209593.000000</td>\n",
       "      <td>209593.000000</td>\n",
       "      <td>209593.000000</td>\n",
       "      <td>209593.000000</td>\n",
       "      <td>209593.000000</td>\n",
       "      <td>209593.000000</td>\n",
       "      <td>209593.000000</td>\n",
       "      <td>209593.000000</td>\n",
       "      <td>209593.000000</td>\n",
       "      <td>209593.000000</td>\n",
       "      <td>209593.000000</td>\n",
       "      <td>209593.000000</td>\n",
       "      <td>209593.000000</td>\n",
       "      <td>209593.000000</td>\n",
       "      <td>209593.000000</td>\n",
       "      <td>209593.00000</td>\n",
       "      <td>209593.000000</td>\n",
       "      <td>209593.000000</td>\n",
       "      <td>209593.000000</td>\n",
       "      <td>209593.000000</td>\n",
       "      <td>209593.000000</td>\n",
       "      <td>209593.000000</td>\n",
       "      <td>209593.000000</td>\n",
       "      <td>209593.000000</td>\n",
       "      <td>209593.000000</td>\n",
       "      <td>209593.000000</td>\n",
       "      <td>209593.000000</td>\n",
       "      <td>209593.000000</td>\n",
       "      <td>209593.000000</td>\n",
       "      <td>209593.000000</td>\n",
       "      <td>209593.000000</td>\n",
       "      <td>209593.000000</td>\n",
       "      <td>209593.000000</td>\n",
       "      <td>209593.000000</td>\n",
       "    </tr>\n",
       "    <tr>\n",
       "      <th>mean</th>\n",
       "      <td>104797.000000</td>\n",
       "      <td>0.875177</td>\n",
       "      <td>8112.343445</td>\n",
       "      <td>5381.402289</td>\n",
       "      <td>6082.515068</td>\n",
       "      <td>2692.581910</td>\n",
       "      <td>3483.406534</td>\n",
       "      <td>3755.847800</td>\n",
       "      <td>3712.202921</td>\n",
       "      <td>2064.452797</td>\n",
       "      <td>3.978057</td>\n",
       "      <td>3737.355121</td>\n",
       "      <td>7704.501157</td>\n",
       "      <td>1812.817952</td>\n",
       "      <td>3851.927942</td>\n",
       "      <td>6.31543</td>\n",
       "      <td>7.716780</td>\n",
       "      <td>12396.218352</td>\n",
       "      <td>1864.595821</td>\n",
       "      <td>92.025541</td>\n",
       "      <td>262.578110</td>\n",
       "      <td>3749.494447</td>\n",
       "      <td>0.041495</td>\n",
       "      <td>0.045712</td>\n",
       "      <td>2.758981</td>\n",
       "      <td>17.952021</td>\n",
       "      <td>274.658747</td>\n",
       "      <td>0.054029</td>\n",
       "      <td>18.520919</td>\n",
       "      <td>23.645398</td>\n",
       "      <td>6.703134</td>\n",
       "      <td>0.046077</td>\n",
       "      <td>3.398826</td>\n",
       "      <td>4.321485</td>\n",
       "    </tr>\n",
       "    <tr>\n",
       "      <th>std</th>\n",
       "      <td>60504.431823</td>\n",
       "      <td>0.330519</td>\n",
       "      <td>75696.082531</td>\n",
       "      <td>9220.623400</td>\n",
       "      <td>10918.812767</td>\n",
       "      <td>4308.586781</td>\n",
       "      <td>5770.461279</td>\n",
       "      <td>53905.892230</td>\n",
       "      <td>53374.833430</td>\n",
       "      <td>2370.786034</td>\n",
       "      <td>4.256090</td>\n",
       "      <td>53643.625172</td>\n",
       "      <td>10139.621714</td>\n",
       "      <td>2070.864620</td>\n",
       "      <td>54006.374433</td>\n",
       "      <td>7.19347</td>\n",
       "      <td>12.590251</td>\n",
       "      <td>16857.793882</td>\n",
       "      <td>2081.680664</td>\n",
       "      <td>369.215658</td>\n",
       "      <td>4183.897978</td>\n",
       "      <td>53885.414979</td>\n",
       "      <td>0.397556</td>\n",
       "      <td>0.951386</td>\n",
       "      <td>2.554502</td>\n",
       "      <td>17.379741</td>\n",
       "      <td>4245.264648</td>\n",
       "      <td>0.218039</td>\n",
       "      <td>224.797423</td>\n",
       "      <td>26.469861</td>\n",
       "      <td>2.103864</td>\n",
       "      <td>0.200692</td>\n",
       "      <td>8.813729</td>\n",
       "      <td>10.308108</td>\n",
       "    </tr>\n",
       "    <tr>\n",
       "      <th>min</th>\n",
       "      <td>1.000000</td>\n",
       "      <td>0.000000</td>\n",
       "      <td>-48.000000</td>\n",
       "      <td>-93.012667</td>\n",
       "      <td>-93.012667</td>\n",
       "      <td>-23737.140000</td>\n",
       "      <td>-24720.580000</td>\n",
       "      <td>-29.000000</td>\n",
       "      <td>-29.000000</td>\n",
       "      <td>0.000000</td>\n",
       "      <td>0.000000</td>\n",
       "      <td>0.000000</td>\n",
       "      <td>0.000000</td>\n",
       "      <td>0.000000</td>\n",
       "      <td>-200.000000</td>\n",
       "      <td>0.00000</td>\n",
       "      <td>0.000000</td>\n",
       "      <td>0.000000</td>\n",
       "      <td>0.000000</td>\n",
       "      <td>-200.000000</td>\n",
       "      <td>0.000000</td>\n",
       "      <td>0.000000</td>\n",
       "      <td>0.000000</td>\n",
       "      <td>0.000000</td>\n",
       "      <td>0.000000</td>\n",
       "      <td>0.000000</td>\n",
       "      <td>0.000000</td>\n",
       "      <td>0.000000</td>\n",
       "      <td>0.000000</td>\n",
       "      <td>0.000000</td>\n",
       "      <td>0.000000</td>\n",
       "      <td>0.000000</td>\n",
       "      <td>0.000000</td>\n",
       "      <td>0.000000</td>\n",
       "    </tr>\n",
       "    <tr>\n",
       "      <th>25%</th>\n",
       "      <td>52399.000000</td>\n",
       "      <td>1.000000</td>\n",
       "      <td>246.000000</td>\n",
       "      <td>42.440000</td>\n",
       "      <td>42.692000</td>\n",
       "      <td>280.420000</td>\n",
       "      <td>300.260000</td>\n",
       "      <td>1.000000</td>\n",
       "      <td>0.000000</td>\n",
       "      <td>770.000000</td>\n",
       "      <td>1.000000</td>\n",
       "      <td>0.000000</td>\n",
       "      <td>1540.000000</td>\n",
       "      <td>770.000000</td>\n",
       "      <td>11.000000</td>\n",
       "      <td>2.00000</td>\n",
       "      <td>0.000000</td>\n",
       "      <td>2317.000000</td>\n",
       "      <td>773.000000</td>\n",
       "      <td>14.600000</td>\n",
       "      <td>0.000000</td>\n",
       "      <td>0.000000</td>\n",
       "      <td>0.000000</td>\n",
       "      <td>0.000000</td>\n",
       "      <td>1.000000</td>\n",
       "      <td>6.000000</td>\n",
       "      <td>6.000000</td>\n",
       "      <td>0.000000</td>\n",
       "      <td>1.000000</td>\n",
       "      <td>6.000000</td>\n",
       "      <td>6.000000</td>\n",
       "      <td>0.000000</td>\n",
       "      <td>0.000000</td>\n",
       "      <td>0.000000</td>\n",
       "    </tr>\n",
       "    <tr>\n",
       "      <th>50%</th>\n",
       "      <td>104797.000000</td>\n",
       "      <td>1.000000</td>\n",
       "      <td>527.000000</td>\n",
       "      <td>1469.175667</td>\n",
       "      <td>1500.000000</td>\n",
       "      <td>1083.570000</td>\n",
       "      <td>1334.000000</td>\n",
       "      <td>3.000000</td>\n",
       "      <td>0.000000</td>\n",
       "      <td>1539.000000</td>\n",
       "      <td>3.000000</td>\n",
       "      <td>2.000000</td>\n",
       "      <td>4628.000000</td>\n",
       "      <td>1539.000000</td>\n",
       "      <td>33.900000</td>\n",
       "      <td>4.00000</td>\n",
       "      <td>2.000000</td>\n",
       "      <td>7226.000000</td>\n",
       "      <td>1539.000000</td>\n",
       "      <td>36.000000</td>\n",
       "      <td>0.000000</td>\n",
       "      <td>0.000000</td>\n",
       "      <td>0.000000</td>\n",
       "      <td>0.000000</td>\n",
       "      <td>2.000000</td>\n",
       "      <td>12.000000</td>\n",
       "      <td>6.000000</td>\n",
       "      <td>0.000000</td>\n",
       "      <td>2.000000</td>\n",
       "      <td>12.000000</td>\n",
       "      <td>6.000000</td>\n",
       "      <td>0.000000</td>\n",
       "      <td>0.000000</td>\n",
       "      <td>1.666667</td>\n",
       "    </tr>\n",
       "    <tr>\n",
       "      <th>75%</th>\n",
       "      <td>157195.000000</td>\n",
       "      <td>1.000000</td>\n",
       "      <td>982.000000</td>\n",
       "      <td>7244.000000</td>\n",
       "      <td>7802.790000</td>\n",
       "      <td>3356.940000</td>\n",
       "      <td>4201.790000</td>\n",
       "      <td>7.000000</td>\n",
       "      <td>0.000000</td>\n",
       "      <td>2309.000000</td>\n",
       "      <td>5.000000</td>\n",
       "      <td>6.000000</td>\n",
       "      <td>10010.000000</td>\n",
       "      <td>1924.000000</td>\n",
       "      <td>83.000000</td>\n",
       "      <td>8.00000</td>\n",
       "      <td>8.000000</td>\n",
       "      <td>16000.000000</td>\n",
       "      <td>1924.000000</td>\n",
       "      <td>79.310000</td>\n",
       "      <td>0.000000</td>\n",
       "      <td>0.000000</td>\n",
       "      <td>0.000000</td>\n",
       "      <td>0.000000</td>\n",
       "      <td>4.000000</td>\n",
       "      <td>24.000000</td>\n",
       "      <td>6.000000</td>\n",
       "      <td>0.000000</td>\n",
       "      <td>5.000000</td>\n",
       "      <td>30.000000</td>\n",
       "      <td>6.000000</td>\n",
       "      <td>0.000000</td>\n",
       "      <td>3.750000</td>\n",
       "      <td>4.500000</td>\n",
       "    </tr>\n",
       "    <tr>\n",
       "      <th>max</th>\n",
       "      <td>209593.000000</td>\n",
       "      <td>1.000000</td>\n",
       "      <td>999860.755168</td>\n",
       "      <td>265926.000000</td>\n",
       "      <td>320630.000000</td>\n",
       "      <td>198926.110000</td>\n",
       "      <td>200148.110000</td>\n",
       "      <td>998650.377733</td>\n",
       "      <td>999171.809410</td>\n",
       "      <td>55000.000000</td>\n",
       "      <td>203.000000</td>\n",
       "      <td>999606.368132</td>\n",
       "      <td>810096.000000</td>\n",
       "      <td>55000.000000</td>\n",
       "      <td>999479.419319</td>\n",
       "      <td>336.00000</td>\n",
       "      <td>88.000000</td>\n",
       "      <td>953036.000000</td>\n",
       "      <td>55000.000000</td>\n",
       "      <td>41456.500000</td>\n",
       "      <td>99914.441420</td>\n",
       "      <td>999809.240107</td>\n",
       "      <td>38.000000</td>\n",
       "      <td>64.000000</td>\n",
       "      <td>50.000000</td>\n",
       "      <td>306.000000</td>\n",
       "      <td>99864.560864</td>\n",
       "      <td>3.000000</td>\n",
       "      <td>4997.517944</td>\n",
       "      <td>438.000000</td>\n",
       "      <td>12.000000</td>\n",
       "      <td>3.000000</td>\n",
       "      <td>171.500000</td>\n",
       "      <td>171.500000</td>\n",
       "    </tr>\n",
       "  </tbody>\n",
       "</table>\n",
       "</div>"
      ],
      "text/plain": [
       "          Unnamed: 0          label            aon   daily_decr30  \\\n",
       "count  209593.000000  209593.000000  209593.000000  209593.000000   \n",
       "mean   104797.000000       0.875177    8112.343445    5381.402289   \n",
       "std     60504.431823       0.330519   75696.082531    9220.623400   \n",
       "min         1.000000       0.000000     -48.000000     -93.012667   \n",
       "25%     52399.000000       1.000000     246.000000      42.440000   \n",
       "50%    104797.000000       1.000000     527.000000    1469.175667   \n",
       "75%    157195.000000       1.000000     982.000000    7244.000000   \n",
       "max    209593.000000       1.000000  999860.755168  265926.000000   \n",
       "\n",
       "        daily_decr90       rental30       rental90  last_rech_date_ma  \\\n",
       "count  209593.000000  209593.000000  209593.000000      209593.000000   \n",
       "mean     6082.515068    2692.581910    3483.406534        3755.847800   \n",
       "std     10918.812767    4308.586781    5770.461279       53905.892230   \n",
       "min       -93.012667  -23737.140000  -24720.580000         -29.000000   \n",
       "25%        42.692000     280.420000     300.260000           1.000000   \n",
       "50%      1500.000000    1083.570000    1334.000000           3.000000   \n",
       "75%      7802.790000    3356.940000    4201.790000           7.000000   \n",
       "max    320630.000000  198926.110000  200148.110000      998650.377733   \n",
       "\n",
       "       last_rech_date_da  last_rech_amt_ma  cnt_ma_rech30   fr_ma_rech30  \\\n",
       "count      209593.000000     209593.000000  209593.000000  209593.000000   \n",
       "mean         3712.202921       2064.452797       3.978057    3737.355121   \n",
       "std         53374.833430       2370.786034       4.256090   53643.625172   \n",
       "min           -29.000000          0.000000       0.000000       0.000000   \n",
       "25%             0.000000        770.000000       1.000000       0.000000   \n",
       "50%             0.000000       1539.000000       3.000000       2.000000   \n",
       "75%             0.000000       2309.000000       5.000000       6.000000   \n",
       "max        999171.809410      55000.000000     203.000000  999606.368132   \n",
       "\n",
       "       sumamnt_ma_rech30  medianamnt_ma_rech30  medianmarechprebal30  \\\n",
       "count      209593.000000         209593.000000         209593.000000   \n",
       "mean         7704.501157           1812.817952           3851.927942   \n",
       "std         10139.621714           2070.864620          54006.374433   \n",
       "min             0.000000              0.000000           -200.000000   \n",
       "25%          1540.000000            770.000000             11.000000   \n",
       "50%          4628.000000           1539.000000             33.900000   \n",
       "75%         10010.000000           1924.000000             83.000000   \n",
       "max        810096.000000          55000.000000         999479.419319   \n",
       "\n",
       "       cnt_ma_rech90   fr_ma_rech90  sumamnt_ma_rech90  medianamnt_ma_rech90  \\\n",
       "count   209593.00000  209593.000000      209593.000000         209593.000000   \n",
       "mean         6.31543       7.716780       12396.218352           1864.595821   \n",
       "std          7.19347      12.590251       16857.793882           2081.680664   \n",
       "min          0.00000       0.000000           0.000000              0.000000   \n",
       "25%          2.00000       0.000000        2317.000000            773.000000   \n",
       "50%          4.00000       2.000000        7226.000000           1539.000000   \n",
       "75%          8.00000       8.000000       16000.000000           1924.000000   \n",
       "max        336.00000      88.000000      953036.000000          55000.000000   \n",
       "\n",
       "       medianmarechprebal90  cnt_da_rech30   fr_da_rech30  cnt_da_rech90  \\\n",
       "count         209593.000000  209593.000000  209593.000000  209593.000000   \n",
       "mean              92.025541     262.578110    3749.494447       0.041495   \n",
       "std              369.215658    4183.897978   53885.414979       0.397556   \n",
       "min             -200.000000       0.000000       0.000000       0.000000   \n",
       "25%               14.600000       0.000000       0.000000       0.000000   \n",
       "50%               36.000000       0.000000       0.000000       0.000000   \n",
       "75%               79.310000       0.000000       0.000000       0.000000   \n",
       "max            41456.500000   99914.441420  999809.240107      38.000000   \n",
       "\n",
       "        fr_da_rech90    cnt_loans30   amnt_loans30  maxamnt_loans30  \\\n",
       "count  209593.000000  209593.000000  209593.000000    209593.000000   \n",
       "mean        0.045712       2.758981      17.952021       274.658747   \n",
       "std         0.951386       2.554502      17.379741      4245.264648   \n",
       "min         0.000000       0.000000       0.000000         0.000000   \n",
       "25%         0.000000       1.000000       6.000000         6.000000   \n",
       "50%         0.000000       2.000000      12.000000         6.000000   \n",
       "75%         0.000000       4.000000      24.000000         6.000000   \n",
       "max        64.000000      50.000000     306.000000     99864.560864   \n",
       "\n",
       "       medianamnt_loans30    cnt_loans90   amnt_loans90  maxamnt_loans90  \\\n",
       "count       209593.000000  209593.000000  209593.000000    209593.000000   \n",
       "mean             0.054029      18.520919      23.645398         6.703134   \n",
       "std              0.218039     224.797423      26.469861         2.103864   \n",
       "min              0.000000       0.000000       0.000000         0.000000   \n",
       "25%              0.000000       1.000000       6.000000         6.000000   \n",
       "50%              0.000000       2.000000      12.000000         6.000000   \n",
       "75%              0.000000       5.000000      30.000000         6.000000   \n",
       "max              3.000000    4997.517944     438.000000        12.000000   \n",
       "\n",
       "       medianamnt_loans90      payback30      payback90  \n",
       "count       209593.000000  209593.000000  209593.000000  \n",
       "mean             0.046077       3.398826       4.321485  \n",
       "std              0.200692       8.813729      10.308108  \n",
       "min              0.000000       0.000000       0.000000  \n",
       "25%              0.000000       0.000000       0.000000  \n",
       "50%              0.000000       0.000000       1.666667  \n",
       "75%              0.000000       3.750000       4.500000  \n",
       "max              3.000000     171.500000     171.500000  "
      ]
     },
     "execution_count": 11,
     "metadata": {},
     "output_type": "execute_result"
    }
   ],
   "source": [
    "df.describe()"
   ]
  },
  {
   "cell_type": "code",
   "execution_count": 12,
   "metadata": {},
   "outputs": [
    {
     "name": "stdout",
     "output_type": "stream",
     "text": [
      "<class 'pandas.core.frame.DataFrame'>\n",
      "RangeIndex: 209593 entries, 0 to 209592\n",
      "Data columns (total 37 columns):\n",
      " #   Column                Non-Null Count   Dtype  \n",
      "---  ------                --------------   -----  \n",
      " 0   Unnamed: 0            209593 non-null  int64  \n",
      " 1   label                 209593 non-null  int64  \n",
      " 2   msisdn                209593 non-null  object \n",
      " 3   aon                   209593 non-null  float64\n",
      " 4   daily_decr30          209593 non-null  float64\n",
      " 5   daily_decr90          209593 non-null  float64\n",
      " 6   rental30              209593 non-null  float64\n",
      " 7   rental90              209593 non-null  float64\n",
      " 8   last_rech_date_ma     209593 non-null  float64\n",
      " 9   last_rech_date_da     209593 non-null  float64\n",
      " 10  last_rech_amt_ma      209593 non-null  int64  \n",
      " 11  cnt_ma_rech30         209593 non-null  int64  \n",
      " 12  fr_ma_rech30          209593 non-null  float64\n",
      " 13  sumamnt_ma_rech30     209593 non-null  float64\n",
      " 14  medianamnt_ma_rech30  209593 non-null  float64\n",
      " 15  medianmarechprebal30  209593 non-null  float64\n",
      " 16  cnt_ma_rech90         209593 non-null  int64  \n",
      " 17  fr_ma_rech90          209593 non-null  int64  \n",
      " 18  sumamnt_ma_rech90     209593 non-null  int64  \n",
      " 19  medianamnt_ma_rech90  209593 non-null  float64\n",
      " 20  medianmarechprebal90  209593 non-null  float64\n",
      " 21  cnt_da_rech30         209593 non-null  float64\n",
      " 22  fr_da_rech30          209593 non-null  float64\n",
      " 23  cnt_da_rech90         209593 non-null  int64  \n",
      " 24  fr_da_rech90          209593 non-null  int64  \n",
      " 25  cnt_loans30           209593 non-null  int64  \n",
      " 26  amnt_loans30          209593 non-null  int64  \n",
      " 27  maxamnt_loans30       209593 non-null  float64\n",
      " 28  medianamnt_loans30    209593 non-null  float64\n",
      " 29  cnt_loans90           209593 non-null  float64\n",
      " 30  amnt_loans90          209593 non-null  int64  \n",
      " 31  maxamnt_loans90       209593 non-null  int64  \n",
      " 32  medianamnt_loans90    209593 non-null  float64\n",
      " 33  payback30             209593 non-null  float64\n",
      " 34  payback90             209593 non-null  float64\n",
      " 35  pcircle               209593 non-null  object \n",
      " 36  pdate                 209593 non-null  object \n",
      "dtypes: float64(21), int64(13), object(3)\n",
      "memory usage: 59.2+ MB\n"
     ]
    }
   ],
   "source": [
    "df.info()"
   ]
  },
  {
   "cell_type": "markdown",
   "metadata": {},
   "source": [
    "most of our variables are numeric, pdate variable needs to be changed to datetime format to extract useful values.\n",
    "\n",
    "Unnamed: 0, pcircle, and msisdn are not necessary for our prediction pcircle = it has only one value in all the observation, there is no variance so removing this will be a better approach. Unnamed: 0 and msisdn are there only to locate the indivisual observation."
   ]
  },
  {
   "cell_type": "code",
   "execution_count": 13,
   "metadata": {},
   "outputs": [
    {
     "name": "stdout",
     "output_type": "stream",
     "text": [
      "Unique value in Unnamed: 0 209593\n",
      "Unique value in label 2\n",
      "Unique value in msisdn 186243\n",
      "Unique value in aon 4507\n",
      "Unique value in daily_decr30 147025\n",
      "Unique value in daily_decr90 158669\n",
      "Unique value in rental30 132148\n",
      "Unique value in rental90 141033\n",
      "Unique value in last_rech_date_ma 1186\n",
      "Unique value in last_rech_date_da 1174\n",
      "Unique value in last_rech_amt_ma 70\n",
      "Unique value in cnt_ma_rech30 71\n",
      "Unique value in fr_ma_rech30 1083\n",
      "Unique value in sumamnt_ma_rech30 15141\n",
      "Unique value in medianamnt_ma_rech30 510\n",
      "Unique value in medianmarechprebal30 30428\n",
      "Unique value in cnt_ma_rech90 110\n",
      "Unique value in fr_ma_rech90 89\n",
      "Unique value in sumamnt_ma_rech90 31771\n",
      "Unique value in medianamnt_ma_rech90 608\n",
      "Unique value in medianmarechprebal90 29785\n",
      "Unique value in cnt_da_rech30 1066\n",
      "Unique value in fr_da_rech30 1072\n",
      "Unique value in cnt_da_rech90 27\n",
      "Unique value in fr_da_rech90 46\n",
      "Unique value in cnt_loans30 40\n",
      "Unique value in amnt_loans30 48\n",
      "Unique value in maxamnt_loans30 1050\n",
      "Unique value in medianamnt_loans30 6\n",
      "Unique value in cnt_loans90 1110\n",
      "Unique value in amnt_loans90 69\n",
      "Unique value in maxamnt_loans90 3\n",
      "Unique value in medianamnt_loans90 6\n",
      "Unique value in payback30 1363\n",
      "Unique value in payback90 2381\n",
      "Unique value in pcircle 1\n",
      "Unique value in pdate 82\n"
     ]
    }
   ],
   "source": [
    "for i in df.columns:\n",
    "    print('Unique value in',i,df[i].nunique())    \n",
    "    "
   ]
  },
  {
   "cell_type": "markdown",
   "metadata": {},
   "source": [
    "# Preprocessing the data"
   ]
  },
  {
   "cell_type": "code",
   "execution_count": 14,
   "metadata": {},
   "outputs": [
    {
     "data": {
      "text/plain": [
       "Unnamed: 0              0\n",
       "label                   0\n",
       "msisdn                  0\n",
       "aon                     0\n",
       "daily_decr30            0\n",
       "daily_decr90            0\n",
       "rental30                0\n",
       "rental90                0\n",
       "last_rech_date_ma       0\n",
       "last_rech_date_da       0\n",
       "last_rech_amt_ma        0\n",
       "cnt_ma_rech30           0\n",
       "fr_ma_rech30            0\n",
       "sumamnt_ma_rech30       0\n",
       "medianamnt_ma_rech30    0\n",
       "medianmarechprebal30    0\n",
       "cnt_ma_rech90           0\n",
       "fr_ma_rech90            0\n",
       "sumamnt_ma_rech90       0\n",
       "medianamnt_ma_rech90    0\n",
       "medianmarechprebal90    0\n",
       "cnt_da_rech30           0\n",
       "fr_da_rech30            0\n",
       "cnt_da_rech90           0\n",
       "fr_da_rech90            0\n",
       "cnt_loans30             0\n",
       "amnt_loans30            0\n",
       "maxamnt_loans30         0\n",
       "medianamnt_loans30      0\n",
       "cnt_loans90             0\n",
       "amnt_loans90            0\n",
       "maxamnt_loans90         0\n",
       "medianamnt_loans90      0\n",
       "payback30               0\n",
       "payback90               0\n",
       "pcircle                 0\n",
       "pdate                   0\n",
       "dtype: int64"
      ]
     },
     "execution_count": 14,
     "metadata": {},
     "output_type": "execute_result"
    }
   ],
   "source": [
    "df.isnull().sum()"
   ]
  },
  {
   "cell_type": "markdown",
   "metadata": {},
   "source": [
    "No null values can be seen."
   ]
  },
  {
   "cell_type": "code",
   "execution_count": 15,
   "metadata": {},
   "outputs": [],
   "source": [
    "df.drop('Unnamed: 0',axis=1,inplace=True)"
   ]
  },
  {
   "cell_type": "markdown",
   "metadata": {},
   "source": [
    "Seems to have no significance in the dataset as there is index value already present to represent the total number of data."
   ]
  },
  {
   "cell_type": "code",
   "execution_count": 16,
   "metadata": {},
   "outputs": [],
   "source": [
    "df['pdate']=pd.to_datetime(df['pdate'])"
   ]
  },
  {
   "cell_type": "code",
   "execution_count": 17,
   "metadata": {},
   "outputs": [],
   "source": [
    "df['Year']=df['pdate'].dt.year\n",
    "df['Month']=df['pdate'].dt.month\n",
    "df['Day']=df['pdate'].dt.day"
   ]
  },
  {
   "cell_type": "code",
   "execution_count": 18,
   "metadata": {},
   "outputs": [],
   "source": [
    "df.drop('msisdn',axis=1,inplace=True)"
   ]
  },
  {
   "cell_type": "code",
   "execution_count": 19,
   "metadata": {},
   "outputs": [],
   "source": [
    "df.drop('pdate',axis=1,inplace=True)"
   ]
  },
  {
   "cell_type": "code",
   "execution_count": 20,
   "metadata": {},
   "outputs": [],
   "source": [
    "df.drop('pcircle',axis=1,inplace=True)"
   ]
  },
  {
   "cell_type": "code",
   "execution_count": 21,
   "metadata": {},
   "outputs": [],
   "source": [
    "df.drop('Year',axis=1,inplace=True)"
   ]
  },
  {
   "cell_type": "markdown",
   "metadata": {},
   "source": [
    "\"pdate\" is been dropped,as the date column has been converted to integer and seperate date month and year columns created."
   ]
  },
  {
   "cell_type": "markdown",
   "metadata": {},
   "source": [
    "\"pcircle\" is also dropped, as it contain only one value which will not effect the data set much "
   ]
  },
  {
   "cell_type": "markdown",
   "metadata": {},
   "source": [
    "\"msisdn\" has been dropped as "
   ]
  },
  {
   "cell_type": "markdown",
   "metadata": {},
   "source": [
    "\"Year\" has been dropped as the it contain same value in all the rows."
   ]
  },
  {
   "cell_type": "code",
   "execution_count": 22,
   "metadata": {},
   "outputs": [
    {
     "data": {
      "text/html": [
       "<div>\n",
       "<style scoped>\n",
       "    .dataframe tbody tr th:only-of-type {\n",
       "        vertical-align: middle;\n",
       "    }\n",
       "\n",
       "    .dataframe tbody tr th {\n",
       "        vertical-align: top;\n",
       "    }\n",
       "\n",
       "    .dataframe thead th {\n",
       "        text-align: right;\n",
       "    }\n",
       "</style>\n",
       "<table border=\"1\" class=\"dataframe\">\n",
       "  <thead>\n",
       "    <tr style=\"text-align: right;\">\n",
       "      <th></th>\n",
       "      <th>label</th>\n",
       "      <th>aon</th>\n",
       "      <th>daily_decr30</th>\n",
       "      <th>daily_decr90</th>\n",
       "      <th>rental30</th>\n",
       "      <th>rental90</th>\n",
       "      <th>last_rech_date_ma</th>\n",
       "      <th>last_rech_date_da</th>\n",
       "      <th>last_rech_amt_ma</th>\n",
       "      <th>cnt_ma_rech30</th>\n",
       "      <th>fr_ma_rech30</th>\n",
       "      <th>sumamnt_ma_rech30</th>\n",
       "      <th>medianamnt_ma_rech30</th>\n",
       "      <th>medianmarechprebal30</th>\n",
       "      <th>cnt_ma_rech90</th>\n",
       "      <th>fr_ma_rech90</th>\n",
       "      <th>sumamnt_ma_rech90</th>\n",
       "      <th>medianamnt_ma_rech90</th>\n",
       "      <th>medianmarechprebal90</th>\n",
       "      <th>cnt_da_rech30</th>\n",
       "      <th>fr_da_rech30</th>\n",
       "      <th>cnt_da_rech90</th>\n",
       "      <th>fr_da_rech90</th>\n",
       "      <th>cnt_loans30</th>\n",
       "      <th>amnt_loans30</th>\n",
       "      <th>maxamnt_loans30</th>\n",
       "      <th>medianamnt_loans30</th>\n",
       "      <th>cnt_loans90</th>\n",
       "      <th>amnt_loans90</th>\n",
       "      <th>maxamnt_loans90</th>\n",
       "      <th>medianamnt_loans90</th>\n",
       "      <th>payback30</th>\n",
       "      <th>payback90</th>\n",
       "      <th>Month</th>\n",
       "      <th>Day</th>\n",
       "    </tr>\n",
       "  </thead>\n",
       "  <tbody>\n",
       "    <tr>\n",
       "      <th>count</th>\n",
       "      <td>209593.000000</td>\n",
       "      <td>209593.000000</td>\n",
       "      <td>209593.000000</td>\n",
       "      <td>209593.000000</td>\n",
       "      <td>209593.000000</td>\n",
       "      <td>209593.000000</td>\n",
       "      <td>209593.000000</td>\n",
       "      <td>209593.000000</td>\n",
       "      <td>209593.000000</td>\n",
       "      <td>209593.000000</td>\n",
       "      <td>209593.000000</td>\n",
       "      <td>209593.000000</td>\n",
       "      <td>209593.000000</td>\n",
       "      <td>209593.000000</td>\n",
       "      <td>209593.00000</td>\n",
       "      <td>209593.000000</td>\n",
       "      <td>209593.000000</td>\n",
       "      <td>209593.000000</td>\n",
       "      <td>209593.000000</td>\n",
       "      <td>209593.000000</td>\n",
       "      <td>209593.000000</td>\n",
       "      <td>209593.000000</td>\n",
       "      <td>209593.000000</td>\n",
       "      <td>209593.000000</td>\n",
       "      <td>209593.000000</td>\n",
       "      <td>209593.000000</td>\n",
       "      <td>209593.000000</td>\n",
       "      <td>209593.000000</td>\n",
       "      <td>209593.000000</td>\n",
       "      <td>209593.000000</td>\n",
       "      <td>209593.000000</td>\n",
       "      <td>209593.000000</td>\n",
       "      <td>209593.000000</td>\n",
       "      <td>209593.000000</td>\n",
       "      <td>209593.00000</td>\n",
       "    </tr>\n",
       "    <tr>\n",
       "      <th>mean</th>\n",
       "      <td>0.875177</td>\n",
       "      <td>8112.343445</td>\n",
       "      <td>5381.402289</td>\n",
       "      <td>6082.515068</td>\n",
       "      <td>2692.581910</td>\n",
       "      <td>3483.406534</td>\n",
       "      <td>3755.847800</td>\n",
       "      <td>3712.202921</td>\n",
       "      <td>2064.452797</td>\n",
       "      <td>3.978057</td>\n",
       "      <td>3737.355121</td>\n",
       "      <td>7704.501157</td>\n",
       "      <td>1812.817952</td>\n",
       "      <td>3851.927942</td>\n",
       "      <td>6.31543</td>\n",
       "      <td>7.716780</td>\n",
       "      <td>12396.218352</td>\n",
       "      <td>1864.595821</td>\n",
       "      <td>92.025541</td>\n",
       "      <td>262.578110</td>\n",
       "      <td>3749.494447</td>\n",
       "      <td>0.041495</td>\n",
       "      <td>0.045712</td>\n",
       "      <td>2.758981</td>\n",
       "      <td>17.952021</td>\n",
       "      <td>274.658747</td>\n",
       "      <td>0.054029</td>\n",
       "      <td>18.520919</td>\n",
       "      <td>23.645398</td>\n",
       "      <td>6.703134</td>\n",
       "      <td>0.046077</td>\n",
       "      <td>3.398826</td>\n",
       "      <td>4.321485</td>\n",
       "      <td>6.797321</td>\n",
       "      <td>14.39894</td>\n",
       "    </tr>\n",
       "    <tr>\n",
       "      <th>std</th>\n",
       "      <td>0.330519</td>\n",
       "      <td>75696.082531</td>\n",
       "      <td>9220.623400</td>\n",
       "      <td>10918.812767</td>\n",
       "      <td>4308.586781</td>\n",
       "      <td>5770.461279</td>\n",
       "      <td>53905.892230</td>\n",
       "      <td>53374.833430</td>\n",
       "      <td>2370.786034</td>\n",
       "      <td>4.256090</td>\n",
       "      <td>53643.625172</td>\n",
       "      <td>10139.621714</td>\n",
       "      <td>2070.864620</td>\n",
       "      <td>54006.374433</td>\n",
       "      <td>7.19347</td>\n",
       "      <td>12.590251</td>\n",
       "      <td>16857.793882</td>\n",
       "      <td>2081.680664</td>\n",
       "      <td>369.215658</td>\n",
       "      <td>4183.897978</td>\n",
       "      <td>53885.414979</td>\n",
       "      <td>0.397556</td>\n",
       "      <td>0.951386</td>\n",
       "      <td>2.554502</td>\n",
       "      <td>17.379741</td>\n",
       "      <td>4245.264648</td>\n",
       "      <td>0.218039</td>\n",
       "      <td>224.797423</td>\n",
       "      <td>26.469861</td>\n",
       "      <td>2.103864</td>\n",
       "      <td>0.200692</td>\n",
       "      <td>8.813729</td>\n",
       "      <td>10.308108</td>\n",
       "      <td>0.741435</td>\n",
       "      <td>8.43890</td>\n",
       "    </tr>\n",
       "    <tr>\n",
       "      <th>min</th>\n",
       "      <td>0.000000</td>\n",
       "      <td>-48.000000</td>\n",
       "      <td>-93.012667</td>\n",
       "      <td>-93.012667</td>\n",
       "      <td>-23737.140000</td>\n",
       "      <td>-24720.580000</td>\n",
       "      <td>-29.000000</td>\n",
       "      <td>-29.000000</td>\n",
       "      <td>0.000000</td>\n",
       "      <td>0.000000</td>\n",
       "      <td>0.000000</td>\n",
       "      <td>0.000000</td>\n",
       "      <td>0.000000</td>\n",
       "      <td>-200.000000</td>\n",
       "      <td>0.00000</td>\n",
       "      <td>0.000000</td>\n",
       "      <td>0.000000</td>\n",
       "      <td>0.000000</td>\n",
       "      <td>-200.000000</td>\n",
       "      <td>0.000000</td>\n",
       "      <td>0.000000</td>\n",
       "      <td>0.000000</td>\n",
       "      <td>0.000000</td>\n",
       "      <td>0.000000</td>\n",
       "      <td>0.000000</td>\n",
       "      <td>0.000000</td>\n",
       "      <td>0.000000</td>\n",
       "      <td>0.000000</td>\n",
       "      <td>0.000000</td>\n",
       "      <td>0.000000</td>\n",
       "      <td>0.000000</td>\n",
       "      <td>0.000000</td>\n",
       "      <td>0.000000</td>\n",
       "      <td>6.000000</td>\n",
       "      <td>1.00000</td>\n",
       "    </tr>\n",
       "    <tr>\n",
       "      <th>25%</th>\n",
       "      <td>1.000000</td>\n",
       "      <td>246.000000</td>\n",
       "      <td>42.440000</td>\n",
       "      <td>42.692000</td>\n",
       "      <td>280.420000</td>\n",
       "      <td>300.260000</td>\n",
       "      <td>1.000000</td>\n",
       "      <td>0.000000</td>\n",
       "      <td>770.000000</td>\n",
       "      <td>1.000000</td>\n",
       "      <td>0.000000</td>\n",
       "      <td>1540.000000</td>\n",
       "      <td>770.000000</td>\n",
       "      <td>11.000000</td>\n",
       "      <td>2.00000</td>\n",
       "      <td>0.000000</td>\n",
       "      <td>2317.000000</td>\n",
       "      <td>773.000000</td>\n",
       "      <td>14.600000</td>\n",
       "      <td>0.000000</td>\n",
       "      <td>0.000000</td>\n",
       "      <td>0.000000</td>\n",
       "      <td>0.000000</td>\n",
       "      <td>1.000000</td>\n",
       "      <td>6.000000</td>\n",
       "      <td>6.000000</td>\n",
       "      <td>0.000000</td>\n",
       "      <td>1.000000</td>\n",
       "      <td>6.000000</td>\n",
       "      <td>6.000000</td>\n",
       "      <td>0.000000</td>\n",
       "      <td>0.000000</td>\n",
       "      <td>0.000000</td>\n",
       "      <td>6.000000</td>\n",
       "      <td>7.00000</td>\n",
       "    </tr>\n",
       "    <tr>\n",
       "      <th>50%</th>\n",
       "      <td>1.000000</td>\n",
       "      <td>527.000000</td>\n",
       "      <td>1469.175667</td>\n",
       "      <td>1500.000000</td>\n",
       "      <td>1083.570000</td>\n",
       "      <td>1334.000000</td>\n",
       "      <td>3.000000</td>\n",
       "      <td>0.000000</td>\n",
       "      <td>1539.000000</td>\n",
       "      <td>3.000000</td>\n",
       "      <td>2.000000</td>\n",
       "      <td>4628.000000</td>\n",
       "      <td>1539.000000</td>\n",
       "      <td>33.900000</td>\n",
       "      <td>4.00000</td>\n",
       "      <td>2.000000</td>\n",
       "      <td>7226.000000</td>\n",
       "      <td>1539.000000</td>\n",
       "      <td>36.000000</td>\n",
       "      <td>0.000000</td>\n",
       "      <td>0.000000</td>\n",
       "      <td>0.000000</td>\n",
       "      <td>0.000000</td>\n",
       "      <td>2.000000</td>\n",
       "      <td>12.000000</td>\n",
       "      <td>6.000000</td>\n",
       "      <td>0.000000</td>\n",
       "      <td>2.000000</td>\n",
       "      <td>12.000000</td>\n",
       "      <td>6.000000</td>\n",
       "      <td>0.000000</td>\n",
       "      <td>0.000000</td>\n",
       "      <td>1.666667</td>\n",
       "      <td>7.000000</td>\n",
       "      <td>14.00000</td>\n",
       "    </tr>\n",
       "    <tr>\n",
       "      <th>75%</th>\n",
       "      <td>1.000000</td>\n",
       "      <td>982.000000</td>\n",
       "      <td>7244.000000</td>\n",
       "      <td>7802.790000</td>\n",
       "      <td>3356.940000</td>\n",
       "      <td>4201.790000</td>\n",
       "      <td>7.000000</td>\n",
       "      <td>0.000000</td>\n",
       "      <td>2309.000000</td>\n",
       "      <td>5.000000</td>\n",
       "      <td>6.000000</td>\n",
       "      <td>10010.000000</td>\n",
       "      <td>1924.000000</td>\n",
       "      <td>83.000000</td>\n",
       "      <td>8.00000</td>\n",
       "      <td>8.000000</td>\n",
       "      <td>16000.000000</td>\n",
       "      <td>1924.000000</td>\n",
       "      <td>79.310000</td>\n",
       "      <td>0.000000</td>\n",
       "      <td>0.000000</td>\n",
       "      <td>0.000000</td>\n",
       "      <td>0.000000</td>\n",
       "      <td>4.000000</td>\n",
       "      <td>24.000000</td>\n",
       "      <td>6.000000</td>\n",
       "      <td>0.000000</td>\n",
       "      <td>5.000000</td>\n",
       "      <td>30.000000</td>\n",
       "      <td>6.000000</td>\n",
       "      <td>0.000000</td>\n",
       "      <td>3.750000</td>\n",
       "      <td>4.500000</td>\n",
       "      <td>7.000000</td>\n",
       "      <td>21.00000</td>\n",
       "    </tr>\n",
       "    <tr>\n",
       "      <th>max</th>\n",
       "      <td>1.000000</td>\n",
       "      <td>999860.755168</td>\n",
       "      <td>265926.000000</td>\n",
       "      <td>320630.000000</td>\n",
       "      <td>198926.110000</td>\n",
       "      <td>200148.110000</td>\n",
       "      <td>998650.377733</td>\n",
       "      <td>999171.809410</td>\n",
       "      <td>55000.000000</td>\n",
       "      <td>203.000000</td>\n",
       "      <td>999606.368132</td>\n",
       "      <td>810096.000000</td>\n",
       "      <td>55000.000000</td>\n",
       "      <td>999479.419319</td>\n",
       "      <td>336.00000</td>\n",
       "      <td>88.000000</td>\n",
       "      <td>953036.000000</td>\n",
       "      <td>55000.000000</td>\n",
       "      <td>41456.500000</td>\n",
       "      <td>99914.441420</td>\n",
       "      <td>999809.240107</td>\n",
       "      <td>38.000000</td>\n",
       "      <td>64.000000</td>\n",
       "      <td>50.000000</td>\n",
       "      <td>306.000000</td>\n",
       "      <td>99864.560864</td>\n",
       "      <td>3.000000</td>\n",
       "      <td>4997.517944</td>\n",
       "      <td>438.000000</td>\n",
       "      <td>12.000000</td>\n",
       "      <td>3.000000</td>\n",
       "      <td>171.500000</td>\n",
       "      <td>171.500000</td>\n",
       "      <td>8.000000</td>\n",
       "      <td>31.00000</td>\n",
       "    </tr>\n",
       "  </tbody>\n",
       "</table>\n",
       "</div>"
      ],
      "text/plain": [
       "               label            aon   daily_decr30   daily_decr90  \\\n",
       "count  209593.000000  209593.000000  209593.000000  209593.000000   \n",
       "mean        0.875177    8112.343445    5381.402289    6082.515068   \n",
       "std         0.330519   75696.082531    9220.623400   10918.812767   \n",
       "min         0.000000     -48.000000     -93.012667     -93.012667   \n",
       "25%         1.000000     246.000000      42.440000      42.692000   \n",
       "50%         1.000000     527.000000    1469.175667    1500.000000   \n",
       "75%         1.000000     982.000000    7244.000000    7802.790000   \n",
       "max         1.000000  999860.755168  265926.000000  320630.000000   \n",
       "\n",
       "            rental30       rental90  last_rech_date_ma  last_rech_date_da  \\\n",
       "count  209593.000000  209593.000000      209593.000000      209593.000000   \n",
       "mean     2692.581910    3483.406534        3755.847800        3712.202921   \n",
       "std      4308.586781    5770.461279       53905.892230       53374.833430   \n",
       "min    -23737.140000  -24720.580000         -29.000000         -29.000000   \n",
       "25%       280.420000     300.260000           1.000000           0.000000   \n",
       "50%      1083.570000    1334.000000           3.000000           0.000000   \n",
       "75%      3356.940000    4201.790000           7.000000           0.000000   \n",
       "max    198926.110000  200148.110000      998650.377733      999171.809410   \n",
       "\n",
       "       last_rech_amt_ma  cnt_ma_rech30   fr_ma_rech30  sumamnt_ma_rech30  \\\n",
       "count     209593.000000  209593.000000  209593.000000      209593.000000   \n",
       "mean        2064.452797       3.978057    3737.355121        7704.501157   \n",
       "std         2370.786034       4.256090   53643.625172       10139.621714   \n",
       "min            0.000000       0.000000       0.000000           0.000000   \n",
       "25%          770.000000       1.000000       0.000000        1540.000000   \n",
       "50%         1539.000000       3.000000       2.000000        4628.000000   \n",
       "75%         2309.000000       5.000000       6.000000       10010.000000   \n",
       "max        55000.000000     203.000000  999606.368132      810096.000000   \n",
       "\n",
       "       medianamnt_ma_rech30  medianmarechprebal30  cnt_ma_rech90  \\\n",
       "count         209593.000000         209593.000000   209593.00000   \n",
       "mean            1812.817952           3851.927942        6.31543   \n",
       "std             2070.864620          54006.374433        7.19347   \n",
       "min                0.000000           -200.000000        0.00000   \n",
       "25%              770.000000             11.000000        2.00000   \n",
       "50%             1539.000000             33.900000        4.00000   \n",
       "75%             1924.000000             83.000000        8.00000   \n",
       "max            55000.000000         999479.419319      336.00000   \n",
       "\n",
       "        fr_ma_rech90  sumamnt_ma_rech90  medianamnt_ma_rech90  \\\n",
       "count  209593.000000      209593.000000         209593.000000   \n",
       "mean        7.716780       12396.218352           1864.595821   \n",
       "std        12.590251       16857.793882           2081.680664   \n",
       "min         0.000000           0.000000              0.000000   \n",
       "25%         0.000000        2317.000000            773.000000   \n",
       "50%         2.000000        7226.000000           1539.000000   \n",
       "75%         8.000000       16000.000000           1924.000000   \n",
       "max        88.000000      953036.000000          55000.000000   \n",
       "\n",
       "       medianmarechprebal90  cnt_da_rech30   fr_da_rech30  cnt_da_rech90  \\\n",
       "count         209593.000000  209593.000000  209593.000000  209593.000000   \n",
       "mean              92.025541     262.578110    3749.494447       0.041495   \n",
       "std              369.215658    4183.897978   53885.414979       0.397556   \n",
       "min             -200.000000       0.000000       0.000000       0.000000   \n",
       "25%               14.600000       0.000000       0.000000       0.000000   \n",
       "50%               36.000000       0.000000       0.000000       0.000000   \n",
       "75%               79.310000       0.000000       0.000000       0.000000   \n",
       "max            41456.500000   99914.441420  999809.240107      38.000000   \n",
       "\n",
       "        fr_da_rech90    cnt_loans30   amnt_loans30  maxamnt_loans30  \\\n",
       "count  209593.000000  209593.000000  209593.000000    209593.000000   \n",
       "mean        0.045712       2.758981      17.952021       274.658747   \n",
       "std         0.951386       2.554502      17.379741      4245.264648   \n",
       "min         0.000000       0.000000       0.000000         0.000000   \n",
       "25%         0.000000       1.000000       6.000000         6.000000   \n",
       "50%         0.000000       2.000000      12.000000         6.000000   \n",
       "75%         0.000000       4.000000      24.000000         6.000000   \n",
       "max        64.000000      50.000000     306.000000     99864.560864   \n",
       "\n",
       "       medianamnt_loans30    cnt_loans90   amnt_loans90  maxamnt_loans90  \\\n",
       "count       209593.000000  209593.000000  209593.000000    209593.000000   \n",
       "mean             0.054029      18.520919      23.645398         6.703134   \n",
       "std              0.218039     224.797423      26.469861         2.103864   \n",
       "min              0.000000       0.000000       0.000000         0.000000   \n",
       "25%              0.000000       1.000000       6.000000         6.000000   \n",
       "50%              0.000000       2.000000      12.000000         6.000000   \n",
       "75%              0.000000       5.000000      30.000000         6.000000   \n",
       "max              3.000000    4997.517944     438.000000        12.000000   \n",
       "\n",
       "       medianamnt_loans90      payback30      payback90          Month  \\\n",
       "count       209593.000000  209593.000000  209593.000000  209593.000000   \n",
       "mean             0.046077       3.398826       4.321485       6.797321   \n",
       "std              0.200692       8.813729      10.308108       0.741435   \n",
       "min              0.000000       0.000000       0.000000       6.000000   \n",
       "25%              0.000000       0.000000       0.000000       6.000000   \n",
       "50%              0.000000       0.000000       1.666667       7.000000   \n",
       "75%              0.000000       3.750000       4.500000       7.000000   \n",
       "max              3.000000     171.500000     171.500000       8.000000   \n",
       "\n",
       "                Day  \n",
       "count  209593.00000  \n",
       "mean       14.39894  \n",
       "std         8.43890  \n",
       "min         1.00000  \n",
       "25%         7.00000  \n",
       "50%        14.00000  \n",
       "75%        21.00000  \n",
       "max        31.00000  "
      ]
     },
     "execution_count": 22,
     "metadata": {},
     "output_type": "execute_result"
    }
   ],
   "source": [
    "df.describe()"
   ]
  },
  {
   "cell_type": "markdown",
   "metadata": {},
   "source": [
    "From the above discription we see that almost our data is imbalanced, we have more counts of 1 than 0 in or target variable. Almost every independent variable is highly skewed to right and has outliers. aon shows negative value at minimum as age (in terms of days) cannot be negative, daily_decr30 and daily_decr90 also shows genative value at minimum that too needs to be corrected. last_rech_date_ma and last_rech_date_da - minimum value also here should be corrected.\n",
    "\n",
    "I will 1st convert aon, daily_decr30, daily_decr90, last_rech_date_ma and last_rech_date_da into absolute values to remove the negative value.\n",
    "\n",
    "I will replace the values which are more than (Q3 + 1.5(IQR)) with Q3 + 1.5(IQR) and in some comlumns where values are less than (Q1-1.5(IQR)) with Q1-1.5(IQR)"
   ]
  },
  {
   "cell_type": "code",
   "execution_count": 23,
   "metadata": {},
   "outputs": [
    {
     "data": {
      "text/plain": [
       "count    209593.000000\n",
       "mean        668.871098\n",
       "std         513.525480\n",
       "min           1.000000\n",
       "25%         246.000000\n",
       "50%         527.000000\n",
       "75%         982.000000\n",
       "max        2086.000000\n",
       "Name: aon, dtype: float64"
      ]
     },
     "execution_count": 23,
     "metadata": {},
     "output_type": "execute_result"
    }
   ],
   "source": [
    "#cleaning aon\n",
    "df['aon']= abs(df['aon'])\n",
    "df['aon'] = np.where(df['aon']>df['aon'].quantile(0.75) + 1.5*(df['aon'].quantile(0.75)-df['aon'].quantile(0.25)),df['aon'].quantile(0.75) + 1.5*(df['aon'].quantile(0.75)-df['aon'].quantile(0.25)),df['aon'])\n",
    "df['aon'].describe()"
   ]
  },
  {
   "cell_type": "code",
   "execution_count": 24,
   "metadata": {},
   "outputs": [
    {
     "data": {
      "text/plain": [
       "count    209593.000000\n",
       "mean       4468.132828\n",
       "std        5859.376128\n",
       "min           0.000000\n",
       "25%          42.453000\n",
       "50%        1469.175667\n",
       "75%        7244.000000\n",
       "max       18046.320500\n",
       "Name: daily_decr30, dtype: float64"
      ]
     },
     "execution_count": 24,
     "metadata": {},
     "output_type": "execute_result"
    }
   ],
   "source": [
    "df['daily_decr30']=abs(df['daily_decr30'])\n",
    "df['daily_decr30']=np.where(df['daily_decr30']>df['daily_decr30'].quantile(0.75)+1.5*(df['daily_decr30'].quantile(.75)-df['daily_decr30'].quantile(0.25)),df['daily_decr30'].quantile(0.75)+1.5*(df['daily_decr30'].quantile(0.75)-df['daily_decr30'].quantile(0.25)),df['daily_decr30'])\n",
    "df['daily_decr30'].describe()"
   ]
  },
  {
   "cell_type": "code",
   "execution_count": 25,
   "metadata": {},
   "outputs": [
    {
     "data": {
      "text/plain": [
       "count    209593.000000\n",
       "mean       6082.544140\n",
       "std       10918.796572\n",
       "min           0.000000\n",
       "25%          42.693333\n",
       "50%        1500.000000\n",
       "75%        7802.790000\n",
       "max      320630.000000\n",
       "Name: daily_decr90, dtype: float64"
      ]
     },
     "execution_count": 25,
     "metadata": {},
     "output_type": "execute_result"
    }
   ],
   "source": [
    "df['daily_decr90']=abs(df['daily_decr90'])\n",
    "df['da3ily_decr90']=np.where(df['daily_decr90']>df['daily_decr90'].quantile(0.75)+1.5*(df['daily_decr90'].quantile(.75)-df['daily_decr90'].quantile(0.25)),df['daily_decr90'].quantile(0.75)+1.5*(df['daily_decr90'].quantile(0.75)-df['daily_decr90'].quantile(0.25)),df['daily_decr90'])\n",
    "df['daily_decr90'].describe()"
   ]
  },
  {
   "cell_type": "code",
   "execution_count": 26,
   "metadata": {},
   "outputs": [
    {
     "data": {
      "text/plain": [
       "count    209593.000000\n",
       "mean       2715.376558\n",
       "std        4294.257439\n",
       "min           0.000000\n",
       "25%         299.700000\n",
       "50%        1095.750000\n",
       "75%        3362.350000\n",
       "max      198926.110000\n",
       "Name: rental30, dtype: float64"
      ]
     },
     "execution_count": 26,
     "metadata": {},
     "output_type": "execute_result"
    }
   ],
   "source": [
    "df['rental30']=abs(df['rental30'])\n",
    "df['rental30']=np.where(df['rental30']<df['rental30'].quantile(0.25)-1.5*(df['rental30'].quantile(0.75)-df['rental30'].quantile(0.25)),df['rental30'].quantile(0.25)-1.5*(df['rental30'].quantile(.75)-df['rental30'].quantile(0.25)),df['rental30'])\n",
    "df['rental30'].describe()"
   ]
  },
  {
   "cell_type": "code",
   "execution_count": 27,
   "metadata": {},
   "outputs": [
    {
     "data": {
      "text/plain": [
       "count    209593.000000\n",
       "mean       3509.497148\n",
       "std        5754.630600\n",
       "min           0.000000\n",
       "25%         330.000000\n",
       "50%        1347.220000\n",
       "75%        4204.510000\n",
       "max      200148.110000\n",
       "Name: rental90, dtype: float64"
      ]
     },
     "execution_count": 27,
     "metadata": {},
     "output_type": "execute_result"
    }
   ],
   "source": [
    "df['rental90']=abs(df['rental90'])\n",
    "df['rental90']=+np.where(df['rental90']<df['rental90'].quantile(0.25)-1.5*(df['rental90'].quantile(0.75)-df['rental90'].quantile(0.25)),df['rental90'].quantile(0.25)-1.5*(df['rental90'].quantile(0.75)-df['rental90'].quantile(0.25)),df['rental90'])\n",
    "df['rental90'].describe()"
   ]
  },
  {
   "cell_type": "code",
   "execution_count": 28,
   "metadata": {},
   "outputs": [
    {
     "data": {
      "text/plain": [
       "count    209593.000000\n",
       "mean          4.977103\n",
       "std           5.037840\n",
       "min           0.000000\n",
       "25%           1.000000\n",
       "50%           3.000000\n",
       "75%           7.000000\n",
       "max          16.000000\n",
       "Name: last_rech_date_ma, dtype: float64"
      ]
     },
     "execution_count": 28,
     "metadata": {},
     "output_type": "execute_result"
    }
   ],
   "source": [
    "df['last_rech_date_ma']=abs(df['last_rech_date_ma'])\n",
    "df['last_rech_date_ma']=np.where(df['last_rech_date_ma']>df['last_rech_date_ma'].quantile(0.75)+1.5*(df['last_rech_date_ma'].quantile(0.75)-df['last_rech_date_ma'].quantile(0.25)),df['last_rech_date_ma'].quantile(0.75)+1.5*(df['last_rech_date_ma'].quantile(0.75)-df['last_rech_date_ma'].quantile(0.25)),df['last_rech_date_ma'])\n",
    "df['last_rech_date_ma'].describe()"
   ]
  },
  {
   "cell_type": "code",
   "execution_count": 29,
   "metadata": {},
   "outputs": [
    {
     "data": {
      "text/plain": [
       "count    209593.0\n",
       "mean          0.0\n",
       "std           0.0\n",
       "min           0.0\n",
       "25%           0.0\n",
       "50%           0.0\n",
       "75%           0.0\n",
       "max           0.0\n",
       "Name: last_rech_date_da, dtype: float64"
      ]
     },
     "execution_count": 29,
     "metadata": {},
     "output_type": "execute_result"
    }
   ],
   "source": [
    "df['last_rech_date_da']=abs(df['last_rech_date_da'])\n",
    "df['last_rech_date_da']=np.where(df['last_rech_date_da']>df['last_rech_date_da'].quantile(0.75)+1.5*(df['last_rech_date_da'].quantile(0.75)-df['last_rech_date_da'].quantile(0.25)),df['last_rech_date_da'].quantile(0.75)+1.5*(df['last_rech_date_da'].quantile(0.75)-df['last_rech_date_da'].quantile(0.25)),df['last_rech_date_da'])\n",
    "df['last_rech_date_da'].describe()"
   ]
  },
  {
   "cell_type": "code",
   "execution_count": 30,
   "metadata": {},
   "outputs": [
    {
     "data": {
      "text/plain": [
       "count    209593.000000\n",
       "mean       1719.109131\n",
       "std        1345.846661\n",
       "min           0.000000\n",
       "25%         770.000000\n",
       "50%        1539.000000\n",
       "75%        2309.000000\n",
       "max        4617.500000\n",
       "Name: last_rech_amt_ma, dtype: float64"
      ]
     },
     "execution_count": 30,
     "metadata": {},
     "output_type": "execute_result"
    }
   ],
   "source": [
    "df['last_rech_amt_ma']=abs(df['last_rech_amt_ma'])\n",
    "df['last_rech_amt_ma']=np.where(df['last_rech_amt_ma']>df['last_rech_amt_ma'].quantile(0.75)+1.5*(df['last_rech_amt_ma'].quantile(0.75)-df['last_rech_amt_ma'].quantile(0.25)),df['last_rech_amt_ma'].quantile(0.75)+1.5*(df['last_rech_amt_ma'].quantile(0.75)-df['last_rech_amt_ma'].quantile(0.25)),df['last_rech_amt_ma'])\n",
    "df['last_rech_amt_ma'].describe()"
   ]
  },
  {
   "cell_type": "code",
   "execution_count": 31,
   "metadata": {},
   "outputs": [
    {
     "data": {
      "text/plain": [
       "count    209593.0\n",
       "mean          0.0\n",
       "std           0.0\n",
       "min           0.0\n",
       "25%           0.0\n",
       "50%           0.0\n",
       "75%           0.0\n",
       "max           0.0\n",
       "Name: last_rech_date_da, dtype: float64"
      ]
     },
     "execution_count": 31,
     "metadata": {},
     "output_type": "execute_result"
    }
   ],
   "source": [
    "df['last_rech_date_da']=abs(df['last_rech_date_da'])\n",
    "df['last_rech_date_da']=np.where(df['last_rech_date_da']>df['last_rech_date_da'].quantile(0.75)+1.5*(df['last_rech_date_da'].quantile(0.75)-df['last_rech_date_da'].quantile(0.25)),df['last_rech_date_da'].quantile(0.75)+1.5*(df['last_rech_date_da'].quantile(0.75)-df['last_rech_date_da'].quantile(0.25)),df['last_rech_date_da'])\n",
    "df['last_rech_date_da'].describe()"
   ]
  },
  {
   "cell_type": "code",
   "execution_count": 32,
   "metadata": {},
   "outputs": [
    {
     "data": {
      "text/plain": [
       "count    209593.000000\n",
       "mean          3.683081\n",
       "std           3.199040\n",
       "min           0.000000\n",
       "25%           1.000000\n",
       "50%           3.000000\n",
       "75%           5.000000\n",
       "max          11.000000\n",
       "Name: cnt_ma_rech30, dtype: float64"
      ]
     },
     "execution_count": 32,
     "metadata": {},
     "output_type": "execute_result"
    }
   ],
   "source": [
    "df['cnt_ma_rech30']=abs(df['cnt_ma_rech30'])\n",
    "df['cnt_ma_rech30']=np.where(df['cnt_ma_rech30']>df['cnt_ma_rech30'].quantile(0.75)+1.5*(df['cnt_ma_rech30'].quantile(0.75)-df['cnt_ma_rech30'].quantile(0.25)),df['cnt_ma_rech30'].quantile(0.75)+1.5*(df['cnt_ma_rech30'].quantile(0.75)-df['cnt_ma_rech30'].quantile(0.25)),df['cnt_ma_rech30'])\n",
    "df['cnt_ma_rech30'].describe()"
   ]
  },
  {
   "cell_type": "code",
   "execution_count": 33,
   "metadata": {},
   "outputs": [
    {
     "data": {
      "text/plain": [
       "count    209593.000000\n",
       "mean          3.672041\n",
       "std           4.608388\n",
       "min           0.000000\n",
       "25%           0.000000\n",
       "50%           2.000000\n",
       "75%           6.000000\n",
       "max          15.000000\n",
       "Name: fr_ma_rech30, dtype: float64"
      ]
     },
     "execution_count": 33,
     "metadata": {},
     "output_type": "execute_result"
    }
   ],
   "source": [
    "df['fr_ma_rech30']=abs(df['fr_ma_rech30'])\n",
    "df['fr_ma_rech30']=np.where(df['fr_ma_rech30']>df['fr_ma_rech30'].quantile(0.75)+1.5*(df['fr_ma_rech30'].quantile(0.75)-df['fr_ma_rech30'].quantile(0.25)),df['fr_ma_rech30'].quantile(0.75)+1.5*(df['fr_ma_rech30'].quantile(0.75)-df['fr_ma_rech30'].quantile(0.25)),df['fr_ma_rech30'])\n",
    "df['fr_ma_rech30'].describe()"
   ]
  },
  {
   "cell_type": "code",
   "execution_count": 34,
   "metadata": {},
   "outputs": [
    {
     "data": {
      "text/plain": [
       "count    209593.000000\n",
       "mean       6861.071877\n",
       "std        6612.799020\n",
       "min           0.000000\n",
       "25%        1540.000000\n",
       "50%        4628.000000\n",
       "75%       10010.000000\n",
       "max       22715.000000\n",
       "Name: sumamnt_ma_rech30, dtype: float64"
      ]
     },
     "execution_count": 34,
     "metadata": {},
     "output_type": "execute_result"
    }
   ],
   "source": [
    "df['sumamnt_ma_rech30']=abs(df['sumamnt_ma_rech30'])\n",
    "df['sumamnt_ma_rech30']=np.where(df['sumamnt_ma_rech30']>df['sumamnt_ma_rech30'].quantile(0.75)+1.5*(df['sumamnt_ma_rech30'].quantile(0.75)-df['sumamnt_ma_rech30'].quantile(0.25)),df['sumamnt_ma_rech30'].quantile(0.75)+1.5*(df['sumamnt_ma_rech30'].quantile(0.75)-df['sumamnt_ma_rech30'].quantile(0.25)),df['sumamnt_ma_rech30'])\n",
    "df['sumamnt_ma_rech30'].describe()"
   ]
  },
  {
   "cell_type": "code",
   "execution_count": 35,
   "metadata": {},
   "outputs": [
    {
     "data": {
      "text/plain": [
       "count    209593.000000\n",
       "mean       1475.941906\n",
       "std        1079.392998\n",
       "min           0.000000\n",
       "25%         770.000000\n",
       "50%        1539.000000\n",
       "75%        1924.000000\n",
       "max        3655.000000\n",
       "Name: medianamnt_ma_rech30, dtype: float64"
      ]
     },
     "execution_count": 35,
     "metadata": {},
     "output_type": "execute_result"
    }
   ],
   "source": [
    "df['medianamnt_ma_rech30']=abs(df['medianamnt_ma_rech30'])\n",
    "df['medianamnt_ma_rech30']=np.where(df['medianamnt_ma_rech30']>df['medianamnt_ma_rech30'].quantile(0.75)+1.5*(df['medianamnt_ma_rech30'].quantile(0.75)-df['medianamnt_ma_rech30'].quantile(0.25)),df['medianamnt_ma_rech30'].quantile(0.75)+1.5*(df['medianamnt_ma_rech30'].quantile(0.75)-df['medianamnt_ma_rech30'].quantile(0.25)),df['medianamnt_ma_rech30'])\n",
    "df['medianamnt_ma_rech30'].describe()"
   ]
  },
  {
   "cell_type": "code",
   "execution_count": 36,
   "metadata": {},
   "outputs": [
    {
     "data": {
      "text/plain": [
       "count    209593.000000\n",
       "mean         60.659861\n",
       "std          64.924090\n",
       "min           0.000000\n",
       "25%          11.670000\n",
       "50%          35.000000\n",
       "75%          85.300000\n",
       "max         195.745000\n",
       "Name: medianmarechprebal30, dtype: float64"
      ]
     },
     "execution_count": 36,
     "metadata": {},
     "output_type": "execute_result"
    }
   ],
   "source": [
    "df['medianmarechprebal30']=abs(df['medianmarechprebal30'])\n",
    "df['medianmarechprebal30']=np.where(df['medianmarechprebal30']>df['medianmarechprebal30'].quantile(0.75)+1.5*(df['medianmarechprebal30'].quantile(0.75)-df['medianmarechprebal30'].quantile(0.25)),df['medianmarechprebal30'].quantile(0.75)+1.5*(df['medianmarechprebal30'].quantile(0.75)-df['medianmarechprebal30'].quantile(0.25)),df['medianmarechprebal30'])\n",
    "df['medianmarechprebal30'].describe()"
   ]
  },
  {
   "cell_type": "code",
   "execution_count": 37,
   "metadata": {},
   "outputs": [],
   "source": [
    "df['cnt_ma_rech90']=np.where(df['cnt_ma_rech90']>55,55,df['cnt_ma_rech90'])"
   ]
  },
  {
   "cell_type": "code",
   "execution_count": 38,
   "metadata": {},
   "outputs": [],
   "source": [
    "df['fr_da_rech30']=np.where(df['fr_da_rech30']>14,14,df['fr_da_rech30'])"
   ]
  },
  {
   "cell_type": "code",
   "execution_count": 39,
   "metadata": {},
   "outputs": [
    {
     "data": {
      "text/plain": [
       "count    209593.000000\n",
       "mean      10878.720344\n",
       "std       10789.012367\n",
       "min           0.000000\n",
       "25%        2317.000000\n",
       "50%        7226.000000\n",
       "75%       16000.000000\n",
       "max       36524.500000\n",
       "Name: sumamnt_ma_rech90, dtype: float64"
      ]
     },
     "execution_count": 39,
     "metadata": {},
     "output_type": "execute_result"
    }
   ],
   "source": [
    "df['sumamnt_ma_rech90']=abs(df['sumamnt_ma_rech90'])\n",
    "df['sumamnt_ma_rech90']=np.where(df['sumamnt_ma_rech90']>df['sumamnt_ma_rech90'].quantile(0.75)+1.5*(df['sumamnt_ma_rech90'].quantile(0.75)-df['sumamnt_ma_rech90'].quantile(0.25)),df['sumamnt_ma_rech90'].quantile(0.75)+1.5*(df['sumamnt_ma_rech90'].quantile(0.75)-df['sumamnt_ma_rech90'].quantile(0.25)),df['sumamnt_ma_rech90'])\n",
    "df['sumamnt_ma_rech90'].describe()"
   ]
  },
  {
   "cell_type": "code",
   "execution_count": 40,
   "metadata": {},
   "outputs": [
    {
     "data": {
      "text/plain": [
       "count    209593.000000\n",
       "mean       1517.062192\n",
       "std        1056.056717\n",
       "min           0.000000\n",
       "25%         773.000000\n",
       "50%        1539.000000\n",
       "75%        1924.000000\n",
       "max        3650.500000\n",
       "Name: medianamnt_ma_rech90, dtype: float64"
      ]
     },
     "execution_count": 40,
     "metadata": {},
     "output_type": "execute_result"
    }
   ],
   "source": [
    "df['medianamnt_ma_rech90']=abs(df['medianamnt_ma_rech90'])\n",
    "df['medianamnt_ma_rech90']=np.where(df['medianamnt_ma_rech90']>df['medianamnt_ma_rech90'].quantile(0.75)+1.5*(df['medianamnt_ma_rech90'].quantile(0.75)-df['medianamnt_ma_rech90'].quantile(0.25)),df['medianamnt_ma_rech90'].quantile(0.75)+1.5*(df['medianamnt_ma_rech90'].quantile(0.75)-df['medianamnt_ma_rech90'].quantile(0.25)),df['medianamnt_ma_rech90'])\n",
    "df['medianamnt_ma_rech90'].describe()"
   ]
  },
  {
   "cell_type": "code",
   "execution_count": 41,
   "metadata": {},
   "outputs": [
    {
     "data": {
      "text/plain": [
       "count    209593.000000\n",
       "mean         58.303986\n",
       "std          58.192229\n",
       "min           0.000000\n",
       "25%          15.300000\n",
       "50%          37.000000\n",
       "75%          81.500000\n",
       "max         180.800000\n",
       "Name: medianmarechprebal90, dtype: float64"
      ]
     },
     "execution_count": 41,
     "metadata": {},
     "output_type": "execute_result"
    }
   ],
   "source": [
    "df['medianmarechprebal90']=abs(df['medianmarechprebal90'])\n",
    "df['medianmarechprebal90']=np.where(df['medianmarechprebal90']>df['medianmarechprebal90'].quantile(0.75)+1.5*(df['medianmarechprebal90'].quantile(0.75)-df['medianmarechprebal90'].quantile(0.25)),df['medianmarechprebal90'].quantile(0.75)+1.5*(df['medianmarechprebal90'].quantile(0.75)-df['medianmarechprebal90'].quantile(0.25)),df['medianmarechprebal90'])\n",
    "df['medianmarechprebal90'].describe()"
   ]
  },
  {
   "cell_type": "code",
   "execution_count": 42,
   "metadata": {},
   "outputs": [
    {
     "data": {
      "text/plain": [
       "count    209593.000000\n",
       "mean         16.862223\n",
       "std          13.238181\n",
       "min           0.000000\n",
       "25%           6.000000\n",
       "50%          12.000000\n",
       "75%          24.000000\n",
       "max          51.000000\n",
       "Name: amnt_loans30, dtype: float64"
      ]
     },
     "execution_count": 42,
     "metadata": {},
     "output_type": "execute_result"
    }
   ],
   "source": [
    "df['amnt_loans30']=abs(df['amnt_loans30'])\n",
    "df['amnt_loans30']=np.where(df['amnt_loans30']>df['amnt_loans30'].quantile(0.75)+1.5*(df['amnt_loans30'].quantile(0.75)-df['amnt_loans30'].quantile(0.25)),df['amnt_loans30'].quantile(0.75)+1.5*(df['amnt_loans30'].quantile(0.75)-df['amnt_loans30'].quantile(0.25)),df['amnt_loans30'])\n",
    "df['amnt_loans30'].describe()"
   ]
  },
  {
   "cell_type": "code",
   "execution_count": 43,
   "metadata": {},
   "outputs": [],
   "source": [
    "df['maxamnt_loans30']=np.where(df['maxamnt_loans30']>12,np.median(df['maxamnt_loans30']),df['maxamnt_loans30'])"
   ]
  },
  {
   "cell_type": "code",
   "execution_count": 44,
   "metadata": {},
   "outputs": [
    {
     "data": {
      "text/plain": [
       "count    209593.000000\n",
       "mean          2.894150\n",
       "std           3.632511\n",
       "min           0.000000\n",
       "25%           0.000000\n",
       "50%           1.666667\n",
       "75%           4.500000\n",
       "max          11.250000\n",
       "Name: payback90, dtype: float64"
      ]
     },
     "execution_count": 44,
     "metadata": {},
     "output_type": "execute_result"
    }
   ],
   "source": [
    "df['payback90']=abs(df['payback90'])\n",
    "df['payback90']=np.where(df['payback90']>df['payback90'].quantile(0.75)+1.5*(df['payback90'].quantile(0.75)-df['payback90'].quantile(0.25)),df['payback90'].quantile(0.75)+1.5*(df['payback90'].quantile(0.75)-df['payback90'].quantile(0.25)),df['payback90'])\n",
    "df['payback90'].describe()"
   ]
  },
  {
   "cell_type": "code",
   "execution_count": 45,
   "metadata": {},
   "outputs": [],
   "source": [
    "df['cnt_da_rech30']=np.where(df['cnt_da_rech30']>16,16,df['cnt_da_rech30'])"
   ]
  },
  {
   "cell_type": "code",
   "execution_count": 46,
   "metadata": {},
   "outputs": [],
   "source": [
    "df['fr_da_rech90']=np.where(df['fr_da_rech90']>32,32,df['fr_da_rech90'])"
   ]
  },
  {
   "cell_type": "code",
   "execution_count": 47,
   "metadata": {},
   "outputs": [],
   "source": [
    "df['cnt_loans30']=np.where(df['cnt_loans30']>31,31,df['cnt_loans30'])"
   ]
  },
  {
   "cell_type": "code",
   "execution_count": 48,
   "metadata": {},
   "outputs": [],
   "source": [
    "df['cnt_loans90']=np.where(df['cnt_loans90']>63,63,df['cnt_loans90'])"
   ]
  },
  {
   "cell_type": "code",
   "execution_count": 49,
   "metadata": {},
   "outputs": [],
   "source": [
    "\n",
    "df['maxamnt_loans90']=np.where(df['maxamnt_loans90']>12,np.median(df['maxamnt_loans90']),df['maxamnt_loans90'])"
   ]
  },
  {
   "cell_type": "code",
   "execution_count": 50,
   "metadata": {},
   "outputs": [
    {
     "data": {
      "text/html": [
       "<div>\n",
       "<style scoped>\n",
       "    .dataframe tbody tr th:only-of-type {\n",
       "        vertical-align: middle;\n",
       "    }\n",
       "\n",
       "    .dataframe tbody tr th {\n",
       "        vertical-align: top;\n",
       "    }\n",
       "\n",
       "    .dataframe thead th {\n",
       "        text-align: right;\n",
       "    }\n",
       "</style>\n",
       "<table border=\"1\" class=\"dataframe\">\n",
       "  <thead>\n",
       "    <tr style=\"text-align: right;\">\n",
       "      <th></th>\n",
       "      <th>label</th>\n",
       "      <th>aon</th>\n",
       "      <th>daily_decr30</th>\n",
       "      <th>daily_decr90</th>\n",
       "      <th>rental30</th>\n",
       "      <th>rental90</th>\n",
       "      <th>last_rech_date_ma</th>\n",
       "      <th>last_rech_date_da</th>\n",
       "      <th>last_rech_amt_ma</th>\n",
       "      <th>cnt_ma_rech30</th>\n",
       "      <th>fr_ma_rech30</th>\n",
       "      <th>sumamnt_ma_rech30</th>\n",
       "      <th>medianamnt_ma_rech30</th>\n",
       "      <th>medianmarechprebal30</th>\n",
       "      <th>cnt_ma_rech90</th>\n",
       "      <th>fr_ma_rech90</th>\n",
       "      <th>sumamnt_ma_rech90</th>\n",
       "      <th>medianamnt_ma_rech90</th>\n",
       "      <th>medianmarechprebal90</th>\n",
       "      <th>cnt_da_rech30</th>\n",
       "      <th>fr_da_rech30</th>\n",
       "      <th>cnt_da_rech90</th>\n",
       "      <th>fr_da_rech90</th>\n",
       "      <th>cnt_loans30</th>\n",
       "      <th>amnt_loans30</th>\n",
       "      <th>maxamnt_loans30</th>\n",
       "      <th>medianamnt_loans30</th>\n",
       "      <th>cnt_loans90</th>\n",
       "      <th>amnt_loans90</th>\n",
       "      <th>maxamnt_loans90</th>\n",
       "      <th>medianamnt_loans90</th>\n",
       "      <th>payback30</th>\n",
       "      <th>payback90</th>\n",
       "      <th>Month</th>\n",
       "      <th>Day</th>\n",
       "      <th>da3ily_decr90</th>\n",
       "    </tr>\n",
       "  </thead>\n",
       "  <tbody>\n",
       "    <tr>\n",
       "      <th>count</th>\n",
       "      <td>209593.000000</td>\n",
       "      <td>209593.000000</td>\n",
       "      <td>209593.000000</td>\n",
       "      <td>209593.000000</td>\n",
       "      <td>209593.000000</td>\n",
       "      <td>209593.000000</td>\n",
       "      <td>209593.000000</td>\n",
       "      <td>209593.0</td>\n",
       "      <td>209593.000000</td>\n",
       "      <td>209593.000000</td>\n",
       "      <td>209593.000000</td>\n",
       "      <td>209593.000000</td>\n",
       "      <td>209593.000000</td>\n",
       "      <td>209593.000000</td>\n",
       "      <td>209593.000000</td>\n",
       "      <td>209593.000000</td>\n",
       "      <td>209593.000000</td>\n",
       "      <td>209593.000000</td>\n",
       "      <td>209593.000000</td>\n",
       "      <td>209593.000000</td>\n",
       "      <td>209593.000000</td>\n",
       "      <td>209593.000000</td>\n",
       "      <td>209593.000000</td>\n",
       "      <td>209593.000000</td>\n",
       "      <td>209593.000000</td>\n",
       "      <td>209593.000000</td>\n",
       "      <td>209593.000000</td>\n",
       "      <td>209593.000000</td>\n",
       "      <td>209593.000000</td>\n",
       "      <td>209593.000000</td>\n",
       "      <td>209593.000000</td>\n",
       "      <td>209593.000000</td>\n",
       "      <td>209593.000000</td>\n",
       "      <td>209593.000000</td>\n",
       "      <td>209593.00000</td>\n",
       "      <td>209593.000000</td>\n",
       "    </tr>\n",
       "    <tr>\n",
       "      <th>mean</th>\n",
       "      <td>0.875177</td>\n",
       "      <td>668.871098</td>\n",
       "      <td>4468.132828</td>\n",
       "      <td>6082.544140</td>\n",
       "      <td>2715.376558</td>\n",
       "      <td>3509.497148</td>\n",
       "      <td>4.977103</td>\n",
       "      <td>0.0</td>\n",
       "      <td>1719.109131</td>\n",
       "      <td>3.683081</td>\n",
       "      <td>3.672041</td>\n",
       "      <td>6861.071877</td>\n",
       "      <td>1475.941906</td>\n",
       "      <td>60.659861</td>\n",
       "      <td>6.293464</td>\n",
       "      <td>7.716780</td>\n",
       "      <td>10878.720344</td>\n",
       "      <td>1517.062192</td>\n",
       "      <td>58.303986</td>\n",
       "      <td>0.102775</td>\n",
       "      <td>0.086797</td>\n",
       "      <td>0.041495</td>\n",
       "      <td>0.044491</td>\n",
       "      <td>2.758623</td>\n",
       "      <td>16.862223</td>\n",
       "      <td>6.654554</td>\n",
       "      <td>0.054029</td>\n",
       "      <td>3.989069</td>\n",
       "      <td>23.645398</td>\n",
       "      <td>6.703134</td>\n",
       "      <td>0.046077</td>\n",
       "      <td>3.398826</td>\n",
       "      <td>2.894150</td>\n",
       "      <td>6.797321</td>\n",
       "      <td>14.39894</td>\n",
       "      <td>4855.290617</td>\n",
       "    </tr>\n",
       "    <tr>\n",
       "      <th>std</th>\n",
       "      <td>0.330519</td>\n",
       "      <td>513.525480</td>\n",
       "      <td>5859.376128</td>\n",
       "      <td>10918.796572</td>\n",
       "      <td>4294.257439</td>\n",
       "      <td>5754.630600</td>\n",
       "      <td>5.037840</td>\n",
       "      <td>0.0</td>\n",
       "      <td>1345.846661</td>\n",
       "      <td>3.199040</td>\n",
       "      <td>4.608388</td>\n",
       "      <td>6612.799020</td>\n",
       "      <td>1079.392998</td>\n",
       "      <td>64.924090</td>\n",
       "      <td>6.969182</td>\n",
       "      <td>12.590251</td>\n",
       "      <td>10789.012367</td>\n",
       "      <td>1056.056717</td>\n",
       "      <td>58.192229</td>\n",
       "      <td>1.155806</td>\n",
       "      <td>1.063580</td>\n",
       "      <td>0.397556</td>\n",
       "      <td>0.896767</td>\n",
       "      <td>2.549809</td>\n",
       "      <td>13.238181</td>\n",
       "      <td>2.147858</td>\n",
       "      <td>0.218039</td>\n",
       "      <td>5.796807</td>\n",
       "      <td>26.469861</td>\n",
       "      <td>2.103864</td>\n",
       "      <td>0.200692</td>\n",
       "      <td>8.813729</td>\n",
       "      <td>3.632511</td>\n",
       "      <td>0.741435</td>\n",
       "      <td>8.43890</td>\n",
       "      <td>6438.197071</td>\n",
       "    </tr>\n",
       "    <tr>\n",
       "      <th>min</th>\n",
       "      <td>0.000000</td>\n",
       "      <td>1.000000</td>\n",
       "      <td>0.000000</td>\n",
       "      <td>0.000000</td>\n",
       "      <td>0.000000</td>\n",
       "      <td>0.000000</td>\n",
       "      <td>0.000000</td>\n",
       "      <td>0.0</td>\n",
       "      <td>0.000000</td>\n",
       "      <td>0.000000</td>\n",
       "      <td>0.000000</td>\n",
       "      <td>0.000000</td>\n",
       "      <td>0.000000</td>\n",
       "      <td>0.000000</td>\n",
       "      <td>0.000000</td>\n",
       "      <td>0.000000</td>\n",
       "      <td>0.000000</td>\n",
       "      <td>0.000000</td>\n",
       "      <td>0.000000</td>\n",
       "      <td>0.000000</td>\n",
       "      <td>0.000000</td>\n",
       "      <td>0.000000</td>\n",
       "      <td>0.000000</td>\n",
       "      <td>0.000000</td>\n",
       "      <td>0.000000</td>\n",
       "      <td>0.000000</td>\n",
       "      <td>0.000000</td>\n",
       "      <td>0.000000</td>\n",
       "      <td>0.000000</td>\n",
       "      <td>0.000000</td>\n",
       "      <td>0.000000</td>\n",
       "      <td>0.000000</td>\n",
       "      <td>0.000000</td>\n",
       "      <td>6.000000</td>\n",
       "      <td>1.00000</td>\n",
       "      <td>0.000000</td>\n",
       "    </tr>\n",
       "    <tr>\n",
       "      <th>25%</th>\n",
       "      <td>1.000000</td>\n",
       "      <td>246.000000</td>\n",
       "      <td>42.453000</td>\n",
       "      <td>42.693333</td>\n",
       "      <td>299.700000</td>\n",
       "      <td>330.000000</td>\n",
       "      <td>1.000000</td>\n",
       "      <td>0.0</td>\n",
       "      <td>770.000000</td>\n",
       "      <td>1.000000</td>\n",
       "      <td>0.000000</td>\n",
       "      <td>1540.000000</td>\n",
       "      <td>770.000000</td>\n",
       "      <td>11.670000</td>\n",
       "      <td>2.000000</td>\n",
       "      <td>0.000000</td>\n",
       "      <td>2317.000000</td>\n",
       "      <td>773.000000</td>\n",
       "      <td>15.300000</td>\n",
       "      <td>0.000000</td>\n",
       "      <td>0.000000</td>\n",
       "      <td>0.000000</td>\n",
       "      <td>0.000000</td>\n",
       "      <td>1.000000</td>\n",
       "      <td>6.000000</td>\n",
       "      <td>6.000000</td>\n",
       "      <td>0.000000</td>\n",
       "      <td>1.000000</td>\n",
       "      <td>6.000000</td>\n",
       "      <td>6.000000</td>\n",
       "      <td>0.000000</td>\n",
       "      <td>0.000000</td>\n",
       "      <td>0.000000</td>\n",
       "      <td>6.000000</td>\n",
       "      <td>7.00000</td>\n",
       "      <td>42.693333</td>\n",
       "    </tr>\n",
       "    <tr>\n",
       "      <th>50%</th>\n",
       "      <td>1.000000</td>\n",
       "      <td>527.000000</td>\n",
       "      <td>1469.175667</td>\n",
       "      <td>1500.000000</td>\n",
       "      <td>1095.750000</td>\n",
       "      <td>1347.220000</td>\n",
       "      <td>3.000000</td>\n",
       "      <td>0.0</td>\n",
       "      <td>1539.000000</td>\n",
       "      <td>3.000000</td>\n",
       "      <td>2.000000</td>\n",
       "      <td>4628.000000</td>\n",
       "      <td>1539.000000</td>\n",
       "      <td>35.000000</td>\n",
       "      <td>4.000000</td>\n",
       "      <td>2.000000</td>\n",
       "      <td>7226.000000</td>\n",
       "      <td>1539.000000</td>\n",
       "      <td>37.000000</td>\n",
       "      <td>0.000000</td>\n",
       "      <td>0.000000</td>\n",
       "      <td>0.000000</td>\n",
       "      <td>0.000000</td>\n",
       "      <td>2.000000</td>\n",
       "      <td>12.000000</td>\n",
       "      <td>6.000000</td>\n",
       "      <td>0.000000</td>\n",
       "      <td>2.000000</td>\n",
       "      <td>12.000000</td>\n",
       "      <td>6.000000</td>\n",
       "      <td>0.000000</td>\n",
       "      <td>0.000000</td>\n",
       "      <td>1.666667</td>\n",
       "      <td>7.000000</td>\n",
       "      <td>14.00000</td>\n",
       "      <td>1500.000000</td>\n",
       "    </tr>\n",
       "    <tr>\n",
       "      <th>75%</th>\n",
       "      <td>1.000000</td>\n",
       "      <td>982.000000</td>\n",
       "      <td>7244.000000</td>\n",
       "      <td>7802.790000</td>\n",
       "      <td>3362.350000</td>\n",
       "      <td>4204.510000</td>\n",
       "      <td>7.000000</td>\n",
       "      <td>0.0</td>\n",
       "      <td>2309.000000</td>\n",
       "      <td>5.000000</td>\n",
       "      <td>6.000000</td>\n",
       "      <td>10010.000000</td>\n",
       "      <td>1924.000000</td>\n",
       "      <td>85.300000</td>\n",
       "      <td>8.000000</td>\n",
       "      <td>8.000000</td>\n",
       "      <td>16000.000000</td>\n",
       "      <td>1924.000000</td>\n",
       "      <td>81.500000</td>\n",
       "      <td>0.000000</td>\n",
       "      <td>0.000000</td>\n",
       "      <td>0.000000</td>\n",
       "      <td>0.000000</td>\n",
       "      <td>4.000000</td>\n",
       "      <td>24.000000</td>\n",
       "      <td>6.000000</td>\n",
       "      <td>0.000000</td>\n",
       "      <td>5.000000</td>\n",
       "      <td>30.000000</td>\n",
       "      <td>6.000000</td>\n",
       "      <td>0.000000</td>\n",
       "      <td>3.750000</td>\n",
       "      <td>4.500000</td>\n",
       "      <td>7.000000</td>\n",
       "      <td>21.00000</td>\n",
       "      <td>7802.790000</td>\n",
       "    </tr>\n",
       "    <tr>\n",
       "      <th>max</th>\n",
       "      <td>1.000000</td>\n",
       "      <td>2086.000000</td>\n",
       "      <td>18046.320500</td>\n",
       "      <td>320630.000000</td>\n",
       "      <td>198926.110000</td>\n",
       "      <td>200148.110000</td>\n",
       "      <td>16.000000</td>\n",
       "      <td>0.0</td>\n",
       "      <td>4617.500000</td>\n",
       "      <td>11.000000</td>\n",
       "      <td>15.000000</td>\n",
       "      <td>22715.000000</td>\n",
       "      <td>3655.000000</td>\n",
       "      <td>195.745000</td>\n",
       "      <td>55.000000</td>\n",
       "      <td>88.000000</td>\n",
       "      <td>36524.500000</td>\n",
       "      <td>3650.500000</td>\n",
       "      <td>180.800000</td>\n",
       "      <td>16.000000</td>\n",
       "      <td>14.000000</td>\n",
       "      <td>38.000000</td>\n",
       "      <td>32.000000</td>\n",
       "      <td>31.000000</td>\n",
       "      <td>51.000000</td>\n",
       "      <td>12.000000</td>\n",
       "      <td>3.000000</td>\n",
       "      <td>63.000000</td>\n",
       "      <td>438.000000</td>\n",
       "      <td>12.000000</td>\n",
       "      <td>3.000000</td>\n",
       "      <td>171.500000</td>\n",
       "      <td>11.250000</td>\n",
       "      <td>8.000000</td>\n",
       "      <td>31.00000</td>\n",
       "      <td>19442.935000</td>\n",
       "    </tr>\n",
       "  </tbody>\n",
       "</table>\n",
       "</div>"
      ],
      "text/plain": [
       "               label            aon   daily_decr30   daily_decr90  \\\n",
       "count  209593.000000  209593.000000  209593.000000  209593.000000   \n",
       "mean        0.875177     668.871098    4468.132828    6082.544140   \n",
       "std         0.330519     513.525480    5859.376128   10918.796572   \n",
       "min         0.000000       1.000000       0.000000       0.000000   \n",
       "25%         1.000000     246.000000      42.453000      42.693333   \n",
       "50%         1.000000     527.000000    1469.175667    1500.000000   \n",
       "75%         1.000000     982.000000    7244.000000    7802.790000   \n",
       "max         1.000000    2086.000000   18046.320500  320630.000000   \n",
       "\n",
       "            rental30       rental90  last_rech_date_ma  last_rech_date_da  \\\n",
       "count  209593.000000  209593.000000      209593.000000           209593.0   \n",
       "mean     2715.376558    3509.497148           4.977103                0.0   \n",
       "std      4294.257439    5754.630600           5.037840                0.0   \n",
       "min         0.000000       0.000000           0.000000                0.0   \n",
       "25%       299.700000     330.000000           1.000000                0.0   \n",
       "50%      1095.750000    1347.220000           3.000000                0.0   \n",
       "75%      3362.350000    4204.510000           7.000000                0.0   \n",
       "max    198926.110000  200148.110000          16.000000                0.0   \n",
       "\n",
       "       last_rech_amt_ma  cnt_ma_rech30   fr_ma_rech30  sumamnt_ma_rech30  \\\n",
       "count     209593.000000  209593.000000  209593.000000      209593.000000   \n",
       "mean        1719.109131       3.683081       3.672041        6861.071877   \n",
       "std         1345.846661       3.199040       4.608388        6612.799020   \n",
       "min            0.000000       0.000000       0.000000           0.000000   \n",
       "25%          770.000000       1.000000       0.000000        1540.000000   \n",
       "50%         1539.000000       3.000000       2.000000        4628.000000   \n",
       "75%         2309.000000       5.000000       6.000000       10010.000000   \n",
       "max         4617.500000      11.000000      15.000000       22715.000000   \n",
       "\n",
       "       medianamnt_ma_rech30  medianmarechprebal30  cnt_ma_rech90  \\\n",
       "count         209593.000000         209593.000000  209593.000000   \n",
       "mean            1475.941906             60.659861       6.293464   \n",
       "std             1079.392998             64.924090       6.969182   \n",
       "min                0.000000              0.000000       0.000000   \n",
       "25%              770.000000             11.670000       2.000000   \n",
       "50%             1539.000000             35.000000       4.000000   \n",
       "75%             1924.000000             85.300000       8.000000   \n",
       "max             3655.000000            195.745000      55.000000   \n",
       "\n",
       "        fr_ma_rech90  sumamnt_ma_rech90  medianamnt_ma_rech90  \\\n",
       "count  209593.000000      209593.000000         209593.000000   \n",
       "mean        7.716780       10878.720344           1517.062192   \n",
       "std        12.590251       10789.012367           1056.056717   \n",
       "min         0.000000           0.000000              0.000000   \n",
       "25%         0.000000        2317.000000            773.000000   \n",
       "50%         2.000000        7226.000000           1539.000000   \n",
       "75%         8.000000       16000.000000           1924.000000   \n",
       "max        88.000000       36524.500000           3650.500000   \n",
       "\n",
       "       medianmarechprebal90  cnt_da_rech30   fr_da_rech30  cnt_da_rech90  \\\n",
       "count         209593.000000  209593.000000  209593.000000  209593.000000   \n",
       "mean              58.303986       0.102775       0.086797       0.041495   \n",
       "std               58.192229       1.155806       1.063580       0.397556   \n",
       "min                0.000000       0.000000       0.000000       0.000000   \n",
       "25%               15.300000       0.000000       0.000000       0.000000   \n",
       "50%               37.000000       0.000000       0.000000       0.000000   \n",
       "75%               81.500000       0.000000       0.000000       0.000000   \n",
       "max              180.800000      16.000000      14.000000      38.000000   \n",
       "\n",
       "        fr_da_rech90    cnt_loans30   amnt_loans30  maxamnt_loans30  \\\n",
       "count  209593.000000  209593.000000  209593.000000    209593.000000   \n",
       "mean        0.044491       2.758623      16.862223         6.654554   \n",
       "std         0.896767       2.549809      13.238181         2.147858   \n",
       "min         0.000000       0.000000       0.000000         0.000000   \n",
       "25%         0.000000       1.000000       6.000000         6.000000   \n",
       "50%         0.000000       2.000000      12.000000         6.000000   \n",
       "75%         0.000000       4.000000      24.000000         6.000000   \n",
       "max        32.000000      31.000000      51.000000        12.000000   \n",
       "\n",
       "       medianamnt_loans30    cnt_loans90   amnt_loans90  maxamnt_loans90  \\\n",
       "count       209593.000000  209593.000000  209593.000000    209593.000000   \n",
       "mean             0.054029       3.989069      23.645398         6.703134   \n",
       "std              0.218039       5.796807      26.469861         2.103864   \n",
       "min              0.000000       0.000000       0.000000         0.000000   \n",
       "25%              0.000000       1.000000       6.000000         6.000000   \n",
       "50%              0.000000       2.000000      12.000000         6.000000   \n",
       "75%              0.000000       5.000000      30.000000         6.000000   \n",
       "max              3.000000      63.000000     438.000000        12.000000   \n",
       "\n",
       "       medianamnt_loans90      payback30      payback90          Month  \\\n",
       "count       209593.000000  209593.000000  209593.000000  209593.000000   \n",
       "mean             0.046077       3.398826       2.894150       6.797321   \n",
       "std              0.200692       8.813729       3.632511       0.741435   \n",
       "min              0.000000       0.000000       0.000000       6.000000   \n",
       "25%              0.000000       0.000000       0.000000       6.000000   \n",
       "50%              0.000000       0.000000       1.666667       7.000000   \n",
       "75%              0.000000       3.750000       4.500000       7.000000   \n",
       "max              3.000000     171.500000      11.250000       8.000000   \n",
       "\n",
       "                Day  da3ily_decr90  \n",
       "count  209593.00000  209593.000000  \n",
       "mean       14.39894    4855.290617  \n",
       "std         8.43890    6438.197071  \n",
       "min         1.00000       0.000000  \n",
       "25%         7.00000      42.693333  \n",
       "50%        14.00000    1500.000000  \n",
       "75%        21.00000    7802.790000  \n",
       "max        31.00000   19442.935000  "
      ]
     },
     "execution_count": 50,
     "metadata": {},
     "output_type": "execute_result"
    }
   ],
   "source": [
    "df.describe()"
   ]
  },
  {
   "cell_type": "code",
   "execution_count": 51,
   "metadata": {},
   "outputs": [],
   "source": [
    "df.drop(['da3ily_decr90','last_rech_date_da'],axis=1,inplace=True)"
   ]
  },
  {
   "cell_type": "code",
   "execution_count": 52,
   "metadata": {},
   "outputs": [
    {
     "data": {
      "text/html": [
       "<div>\n",
       "<style scoped>\n",
       "    .dataframe tbody tr th:only-of-type {\n",
       "        vertical-align: middle;\n",
       "    }\n",
       "\n",
       "    .dataframe tbody tr th {\n",
       "        vertical-align: top;\n",
       "    }\n",
       "\n",
       "    .dataframe thead th {\n",
       "        text-align: right;\n",
       "    }\n",
       "</style>\n",
       "<table border=\"1\" class=\"dataframe\">\n",
       "  <thead>\n",
       "    <tr style=\"text-align: right;\">\n",
       "      <th></th>\n",
       "      <th>label</th>\n",
       "    </tr>\n",
       "  </thead>\n",
       "  <tbody>\n",
       "    <tr>\n",
       "      <th>1</th>\n",
       "      <td>183431</td>\n",
       "    </tr>\n",
       "    <tr>\n",
       "      <th>0</th>\n",
       "      <td>26162</td>\n",
       "    </tr>\n",
       "  </tbody>\n",
       "</table>\n",
       "</div>"
      ],
      "text/plain": [
       "    label\n",
       "1  183431\n",
       "0   26162"
      ]
     },
     "execution_count": 52,
     "metadata": {},
     "output_type": "execute_result"
    }
   ],
   "source": [
    "label_count=pd.DataFrame(df['label'].value_counts())\n",
    "label_count"
   ]
  },
  {
   "cell_type": "code",
   "execution_count": 53,
   "metadata": {},
   "outputs": [
    {
     "data": {
      "text/plain": [
       "([<matplotlib.patches.Wedge at 0x1fc3b669df0>,\n",
       "  <matplotlib.patches.Wedge at 0x1fc3b6679a0>],\n",
       " [Text(-1.2013200672691662, 0.49681998347128375, '1'),\n",
       "  Text(1.0165016150612964, -0.4203860922744423, '0')])"
      ]
     },
     "execution_count": 53,
     "metadata": {},
     "output_type": "execute_result"
    },
    {
     "data": {
      "image/png": "[encoded data removed]",
      "text/plain": [
       "<Figure size 432x288 with 1 Axes>"
      ]
     },
     "metadata": {},
     "output_type": "display_data"
    }
   ],
   "source": [
    "plt.pie(label_count['label'],labels=['1','0'],explode=(0.2,0))"
   ]
  },
  {
   "cell_type": "code",
   "execution_count": 54,
   "metadata": {},
   "outputs": [
    {
     "data": {
      "text/plain": [
       "<AxesSubplot:xlabel='label', ylabel='count'>"
      ]
     },
     "execution_count": 54,
     "metadata": {},
     "output_type": "execute_result"
    },
    {
     "data": {
      "image/png": "[encoded data removed]",
      "text/plain": [
       "<Figure size 432x288 with 1 Axes>"
      ]
     },
     "metadata": {
      "needs_background": "light"
     },
     "output_type": "display_data"
    }
   ],
   "source": [
    "sns.countplot(df['label'])"
   ]
  },
  {
   "cell_type": "markdown",
   "metadata": {},
   "source": [
    "Visualizations showing the success and failure of loan payment."
   ]
  },
  {
   "cell_type": "code",
   "execution_count": 55,
   "metadata": {},
   "outputs": [],
   "source": [
    "#creating continous variable data\n",
    "cont_data = df[['label','aon','daily_decr30','daily_decr90','rental30','rental90','last_rech_amt_ma','sumamnt_ma_rech30',\n",
    "            'medianamnt_ma_rech30','medianmarechprebal30','sumamnt_ma_rech90','medianamnt_ma_rech90','medianmarechprebal90',\n",
    "            'amnt_loans30','amnt_loans90','payback30','payback90']]"
   ]
  },
  {
   "cell_type": "code",
   "execution_count": 56,
   "metadata": {},
   "outputs": [
    {
     "data": {
      "image/png": "[encoded data removed]",
      "text/plain": [
       "<Figure size 1440x720 with 20 Axes>"
      ]
     },
     "metadata": {
      "needs_background": "light"
     },
     "output_type": "display_data"
    }
   ],
   "source": [
    "fig, ax = plt.subplots(ncols=4 ,nrows=5 , figsize=(20,10))\n",
    "index = 0\n",
    "ax = ax.flatten()\n",
    "\n",
    "for i,value in cont_data.items():\n",
    "    sns.histplot(x=i, data=cont_data,hue='label' ,ax=ax[index])\n",
    "    index += 1\n",
    "plt.tight_layout(pad=0.5, h_pad= 1, w_pad= 0.6)"
   ]
  },
  {
   "cell_type": "code",
   "execution_count": 57,
   "metadata": {
    "scrolled": false
   },
   "outputs": [
    {
     "data": {
      "image/png": "[encoded data removed]",
      "text/plain": [
       "<Figure size 432x288 with 1 Axes>"
      ]
     },
     "metadata": {
      "needs_background": "light"
     },
     "output_type": "display_data"
    },
    {
     "data": {
      "image/png": "[encoded data removed]",
      "text/plain": [
       "<Figure size 432x288 with 1 Axes>"
      ]
     },
     "metadata": {
      "needs_background": "light"
     },
     "output_type": "display_data"
    },
    {
     "data": {
      "image/png": "[encoded data removed]",
      "text/plain": [
       "<Figure size 432x288 with 1 Axes>"
      ]
     },
     "metadata": {
      "needs_background": "light"
     },
     "output_type": "display_data"
    },
    {
     "data": {
      "image/png": "[encoded data removed]",
      "text/plain": [
       "<Figure size 432x288 with 1 Axes>"
      ]
     },
     "metadata": {
      "needs_background": "light"
     },
     "output_type": "display_data"
    },
    {
     "data": {
      "image/png": "[encoded data removed]",
      "text/plain": [
       "<Figure size 432x288 with 1 Axes>"
      ]
     },
     "metadata": {
      "needs_background": "light"
     },
     "output_type": "display_data"
    },
    {
     "data": {
      "image/png": "[encoded data removed]",
      "text/plain": [
       "<Figure size 432x288 with 1 Axes>"
      ]
     },
     "metadata": {
      "needs_background": "light"
     },
     "output_type": "display_data"
    },
    {
     "data": {
      "image/png": "[encoded data removed]",
      "text/plain": [
       "<Figure size 432x288 with 1 Axes>"
      ]
     },
     "metadata": {
      "needs_background": "light"
     },
     "output_type": "display_data"
    },
    {
     "data": {
      "image/png": "[encoded data removed]",
      "text/plain": [
       "<Figure size 432x288 with 1 Axes>"
      ]
     },
     "metadata": {
      "needs_background": "light"
     },
     "output_type": "display_data"
    },
    {
     "data": {
      "image/png": "[encoded data removed]",
      "text/plain": [
       "<Figure size 432x288 with 1 Axes>"
      ]
     },
     "metadata": {
      "needs_background": "light"
     },
     "output_type": "display_data"
    },
    {
     "data": {
      "image/png": "[encoded data removed]",
      "text/plain": [
       "<Figure size 432x288 with 1 Axes>"
      ]
     },
     "metadata": {
      "needs_background": "light"
     },
     "output_type": "display_data"
    },
    {
     "data": {
      "image/png": "[encoded data removed]",
      "text/plain": [
       "<Figure size 432x288 with 1 Axes>"
      ]
     },
     "metadata": {
      "needs_background": "light"
     },
     "output_type": "display_data"
    },
    {
     "data": {
      "image/png": "[encoded data removed]",
      "text/plain": [
       "<Figure size 432x288 with 1 Axes>"
      ]
     },
     "metadata": {
      "needs_background": "light"
     },
     "output_type": "display_data"
    },
    {
     "data": {
      "image/png": "[encoded data removed]",
      "text/plain": [
       "<Figure size 432x288 with 1 Axes>"
      ]
     },
     "metadata": {
      "needs_background": "light"
     },
     "output_type": "display_data"
    },
    {
     "data": {
      "image/png": "[encoded data removed]",
      "text/plain": [
       "<Figure size 432x288 with 1 Axes>"
      ]
     },
     "metadata": {
      "needs_background": "light"
     },
     "output_type": "display_data"
    }
   ],
   "source": [
    "columns=['daily_decr30','daily_decr90','rental30','rental90','last_rech_amt_ma','sumamnt_ma_rech30','medianamnt_ma_rech90','medianmarechprebal90','amnt_loans30','maxamnt_loans30','medianamnt_loans30','amnt_loans90','maxamnt_loans90','medianamnt_loans90']\n",
    "for i in columns:\n",
    "    sns.distplot(df[i])\n",
    "    plt.show()"
   ]
  },
  {
   "cell_type": "code",
   "execution_count": 58,
   "metadata": {},
   "outputs": [
    {
     "data": {
      "text/plain": [
       "label                   -2.270254\n",
       "aon                      0.952374\n",
       "daily_decr30             1.239238\n",
       "daily_decr90             4.252578\n",
       "rental30                 4.560510\n",
       "rental90                 4.467282\n",
       "last_rech_date_ma        1.133958\n",
       "last_rech_amt_ma         1.003446\n",
       "cnt_ma_rech30            0.904157\n",
       "fr_ma_rech30             1.253282\n",
       "sumamnt_ma_rech30        1.080771\n",
       "medianamnt_ma_rech30     0.728219\n",
       "medianmarechprebal30     1.105328\n",
       "cnt_ma_rech90            2.451653\n",
       "fr_ma_rech90             2.285423\n",
       "sumamnt_ma_rech90        1.126421\n",
       "medianamnt_ma_rech90     0.763904\n",
       "medianmarechprebal90     1.083476\n",
       "cnt_da_rech30           13.257074\n",
       "fr_da_rech30            12.633165\n",
       "cnt_da_rech90           27.267278\n",
       "fr_da_rech90            25.638997\n",
       "cnt_loans30              2.654910\n",
       "amnt_loans30             1.231090\n",
       "maxamnt_loans30          1.435587\n",
       "medianamnt_loans30       4.551043\n",
       "cnt_loans90              6.190825\n",
       "amnt_loans90             3.150006\n",
       "maxamnt_loans90          1.678304\n",
       "medianamnt_loans90       4.895720\n",
       "payback30                8.310695\n",
       "payback90                1.170815\n",
       "Month                    0.343242\n",
       "Day                      0.199845\n",
       "dtype: float64"
      ]
     },
     "execution_count": 58,
     "metadata": {},
     "output_type": "execute_result"
    }
   ],
   "source": [
    "df.skew()"
   ]
  },
  {
   "cell_type": "code",
   "execution_count": 59,
   "metadata": {
    "scrolled": true
   },
   "outputs": [
    {
     "name": "stdout",
     "output_type": "stream",
     "text": [
      "label\n",
      "The value after transformation -2.2702537199122483\n",
      "*******************************************************\n",
      "aon\n",
      "The value after transformation -0.5522029813963728\n",
      "*******************************************************\n",
      "daily_decr30\n",
      "The value after transformation -0.41935115858549166\n",
      "*******************************************************\n",
      "daily_decr90\n",
      "The value after transformation -0.350526099761194\n",
      "*******************************************************\n",
      "rental30\n",
      "The value after transformation -1.0379587742488734\n",
      "*******************************************************\n",
      "rental90\n",
      "The value after transformation -0.9901972146847384\n",
      "*******************************************************\n",
      "last_rech_date_ma\n",
      "The value after transformation 0.3365113184640076\n",
      "*******************************************************\n",
      "last_rech_amt_ma\n",
      "The value after transformation -2.2539554499341623\n",
      "*******************************************************\n",
      "cnt_ma_rech30\n",
      "The value after transformation 0.06033593635075745\n",
      "*******************************************************\n",
      "fr_ma_rech30\n",
      "The value after transformation 0.49281811325094754\n",
      "*******************************************************\n",
      "sumamnt_ma_rech30\n",
      "The value after transformation -1.7468050504692918\n",
      "*******************************************************\n",
      "medianamnt_ma_rech30\n",
      "The value after transformation -1.9332918992412005\n",
      "*******************************************************\n",
      "medianmarechprebal30\n",
      "The value after transformation -0.5766738703607971\n",
      "*******************************************************\n",
      "cnt_ma_rech90\n",
      "The value after transformation 0.2793507589556884\n",
      "*******************************************************\n",
      "fr_ma_rech90\n",
      "The value after transformation 0.7703781004567621\n",
      "*******************************************************\n",
      "sumamnt_ma_rech90\n",
      "The value after transformation -1.9984046265673545\n",
      "*******************************************************\n",
      "medianamnt_ma_rech90\n",
      "The value after transformation -2.329504709826757\n",
      "*******************************************************\n",
      "medianmarechprebal90\n",
      "The value after transformation -0.728518629441313\n",
      "*******************************************************\n",
      "cnt_da_rech30\n",
      "The value after transformation 11.377206740167793\n",
      "*******************************************************\n",
      "fr_da_rech30\n",
      "The value after transformation 12.11308161089082\n",
      "*******************************************************\n",
      "cnt_da_rech90\n",
      "The value after transformation 10.084967909947071\n",
      "*******************************************************\n",
      "fr_da_rech90\n",
      "The value after transformation 18.80412460353345\n",
      "*******************************************************\n",
      "cnt_loans30\n",
      "The value after transformation 0.9777555279297152\n",
      "*******************************************************\n",
      "amnt_loans30\n",
      "The value after transformation 0.05814514694934439\n",
      "*******************************************************\n",
      "maxamnt_loans30\n",
      "The value after transformation -1.7015956085806996\n",
      "*******************************************************\n",
      "medianamnt_loans30\n",
      "The value after transformation 4.154672455594125\n",
      "*******************************************************\n",
      "cnt_loans90\n",
      "The value after transformation 1.2770362197481755\n",
      "*******************************************************\n",
      "amnt_loans90\n",
      "The value after transformation 0.4448647266809498\n",
      "*******************************************************\n",
      "maxamnt_loans90\n",
      "The value after transformation -1.0365942028967534\n",
      "*******************************************************\n",
      "medianamnt_loans90\n",
      "The value after transformation 4.499881007255553\n",
      "*******************************************************\n",
      "payback30\n",
      "The value after transformation 1.2920394154065864\n",
      "*******************************************************\n",
      "payback90\n",
      "The value after transformation 0.4823116093999208\n",
      "*******************************************************\n",
      "Month\n",
      "The value after transformation 0.2514369397476161\n",
      "*******************************************************\n",
      "Day\n",
      "The value after transformation -0.722934346170896\n",
      "*******************************************************\n"
     ]
    }
   ],
   "source": [
    "for i in df:\n",
    "    print(i)\n",
    "    print('The value after transformation',np.log1p(df[i]+1).skew())\n",
    "    print('*******************************************************')"
   ]
  },
  {
   "cell_type": "code",
   "execution_count": 60,
   "metadata": {},
   "outputs": [],
   "source": [
    "df['medianamnt_loans90']=np.log1p(df['medianamnt_loans90'])\n"
   ]
  },
  {
   "cell_type": "code",
   "execution_count": 61,
   "metadata": {},
   "outputs": [],
   "source": [
    "df['aon']=np.sqrt(df['aon'])"
   ]
  },
  {
   "cell_type": "code",
   "execution_count": 62,
   "metadata": {},
   "outputs": [],
   "source": [
    "df['daily_decr30']= np.sqrt(df['daily_decr30'])"
   ]
  },
  {
   "cell_type": "code",
   "execution_count": 63,
   "metadata": {},
   "outputs": [],
   "source": [
    "df['daily_decr90']= np.sqrt(df['daily_decr90'])"
   ]
  },
  {
   "cell_type": "code",
   "execution_count": 64,
   "metadata": {},
   "outputs": [],
   "source": [
    "df['rental30']= np.sqrt(df['rental30'])"
   ]
  },
  {
   "cell_type": "code",
   "execution_count": 65,
   "metadata": {},
   "outputs": [],
   "source": [
    "df['rental90']= np.sqrt(df['rental90'])"
   ]
  },
  {
   "cell_type": "code",
   "execution_count": 66,
   "metadata": {},
   "outputs": [],
   "source": [
    "df['last_rech_date_ma']= np.log1p(df['last_rech_date_ma'])"
   ]
  },
  {
   "cell_type": "code",
   "execution_count": 67,
   "metadata": {},
   "outputs": [],
   "source": [
    "df['last_rech_amt_ma']= np.sqrt(df['last_rech_amt_ma'])"
   ]
  },
  {
   "cell_type": "code",
   "execution_count": 68,
   "metadata": {},
   "outputs": [],
   "source": [
    "df['cnt_ma_rech30']= np.sqrt(df['cnt_ma_rech30'])"
   ]
  },
  {
   "cell_type": "code",
   "execution_count": 69,
   "metadata": {},
   "outputs": [],
   "source": [
    "df['fr_ma_rech30']= np.log1p(df['fr_ma_rech30']+1)"
   ]
  },
  {
   "cell_type": "code",
   "execution_count": 70,
   "metadata": {},
   "outputs": [],
   "source": [
    "df['sumamnt_ma_rech30']=np.sqrt(df['sumamnt_ma_rech30'])"
   ]
  },
  {
   "cell_type": "code",
   "execution_count": 71,
   "metadata": {},
   "outputs": [],
   "source": [
    "df['medianamnt_ma_rech30']=np.sqrt(df['medianamnt_ma_rech30'])"
   ]
  },
  {
   "cell_type": "code",
   "execution_count": 72,
   "metadata": {},
   "outputs": [],
   "source": [
    "df['medianmarechprebal30']=np.sqrt(df['medianmarechprebal30'])"
   ]
  },
  {
   "cell_type": "code",
   "execution_count": 73,
   "metadata": {},
   "outputs": [],
   "source": [
    "df['cnt_ma_rech90']=np.log1p(df['cnt_ma_rech90']+1)"
   ]
  },
  {
   "cell_type": "code",
   "execution_count": 74,
   "metadata": {},
   "outputs": [],
   "source": [
    "df['fr_ma_rech90']=np.log1p(df['fr_ma_rech90']+1)"
   ]
  },
  {
   "cell_type": "code",
   "execution_count": 75,
   "metadata": {},
   "outputs": [],
   "source": [
    "df['sumamnt_ma_rech90']=np.sqrt(df['sumamnt_ma_rech90'])"
   ]
  },
  {
   "cell_type": "code",
   "execution_count": 76,
   "metadata": {},
   "outputs": [],
   "source": [
    "df['medianamnt_ma_rech90']=np.sqrt(df['medianamnt_ma_rech90'])"
   ]
  },
  {
   "cell_type": "code",
   "execution_count": 77,
   "metadata": {},
   "outputs": [],
   "source": [
    "df['medianmarechprebal90']=np.sqrt(df['medianmarechprebal90'])"
   ]
  },
  {
   "cell_type": "code",
   "execution_count": 78,
   "metadata": {},
   "outputs": [],
   "source": [
    "df['cnt_da_rech30']=np.log1p(df['cnt_da_rech30'])"
   ]
  },
  {
   "cell_type": "code",
   "execution_count": 79,
   "metadata": {},
   "outputs": [],
   "source": [
    "df['fr_da_rech30']=np.log1p(df['fr_da_rech30'])"
   ]
  },
  {
   "cell_type": "code",
   "execution_count": 80,
   "metadata": {},
   "outputs": [],
   "source": [
    "df['cnt_da_rech90']=np.log1p(df['cnt_da_rech90'])"
   ]
  },
  {
   "cell_type": "code",
   "execution_count": 81,
   "metadata": {},
   "outputs": [],
   "source": [
    "df['fr_da_rech90']=np.log1p(df['fr_da_rech90'])"
   ]
  },
  {
   "cell_type": "code",
   "execution_count": 82,
   "metadata": {},
   "outputs": [],
   "source": [
    "df['cnt_loans30']=np.log1p(df['cnt_loans30']+1)"
   ]
  },
  {
   "cell_type": "code",
   "execution_count": 83,
   "metadata": {},
   "outputs": [],
   "source": [
    "df['amnt_loans30']=np.log1p(df['amnt_loans30']+1)"
   ]
  },
  {
   "cell_type": "code",
   "execution_count": 84,
   "metadata": {},
   "outputs": [],
   "source": [
    "df['maxamnt_loans30']=np.sqrt(df['maxamnt_loans30'])"
   ]
  },
  {
   "cell_type": "code",
   "execution_count": 85,
   "metadata": {},
   "outputs": [],
   "source": [
    "df['medianamnt_loans30']=np.log1p(df['medianamnt_loans30'])"
   ]
  },
  {
   "cell_type": "code",
   "execution_count": 86,
   "metadata": {},
   "outputs": [],
   "source": [
    "df['cnt_loans90']=np.log1p(df['cnt_loans90']+1)"
   ]
  },
  {
   "cell_type": "code",
   "execution_count": 87,
   "metadata": {},
   "outputs": [],
   "source": [
    "df['amnt_loans90']=np.log1p(df['amnt_loans90']+1)"
   ]
  },
  {
   "cell_type": "code",
   "execution_count": 88,
   "metadata": {},
   "outputs": [],
   "source": [
    "df['maxamnt_loans90']=np.sqrt(df['maxamnt_loans90'])"
   ]
  },
  {
   "cell_type": "code",
   "execution_count": 89,
   "metadata": {},
   "outputs": [],
   "source": [
    "df['payback30']=np.log1p(df['payback30'])"
   ]
  },
  {
   "cell_type": "code",
   "execution_count": 90,
   "metadata": {},
   "outputs": [],
   "source": [
    "df['payback90']=np.log1p(df['payback90']+1)"
   ]
  },
  {
   "cell_type": "code",
   "execution_count": 91,
   "metadata": {},
   "outputs": [],
   "source": [
    "df['Month']=np.log1p(df['Month'])"
   ]
  },
  {
   "cell_type": "code",
   "execution_count": 92,
   "metadata": {},
   "outputs": [],
   "source": [
    "df['Day']=np.sqrt(df['Day'])"
   ]
  },
  {
   "cell_type": "code",
   "execution_count": 93,
   "metadata": {},
   "outputs": [
    {
     "data": {
      "text/plain": [
       "label                   -2.270254\n",
       "aon                      0.318991\n",
       "daily_decr30             0.575904\n",
       "daily_decr90             1.234454\n",
       "rental30                 1.294750\n",
       "rental90                 1.358978\n",
       "last_rech_date_ma        0.089343\n",
       "last_rech_amt_ma        -0.237208\n",
       "cnt_ma_rech30           -0.141319\n",
       "fr_ma_rech30             0.492818\n",
       "sumamnt_ma_rech30        0.081148\n",
       "medianamnt_ma_rech30    -0.563881\n",
       "medianmarechprebal30     0.261988\n",
       "cnt_ma_rech90            0.279351\n",
       "fr_ma_rech90             0.770378\n",
       "sumamnt_ma_rech90        0.213672\n",
       "medianamnt_ma_rech90    -0.561451\n",
       "medianmarechprebal90     0.193764\n",
       "cnt_da_rech30           10.539214\n",
       "fr_da_rech30            11.980885\n",
       "cnt_da_rech90            8.491552\n",
       "fr_da_rech90            17.981003\n",
       "cnt_loans30              0.977756\n",
       "amnt_loans30             0.058145\n",
       "maxamnt_loans30         -1.570323\n",
       "medianamnt_loans30       3.995359\n",
       "cnt_loans90              1.277036\n",
       "amnt_loans90             0.444865\n",
       "maxamnt_loans90         -0.903037\n",
       "medianamnt_loans90       4.339969\n",
       "payback30                0.906462\n",
       "payback90                0.482312\n",
       "Month                    0.240229\n",
       "Day                     -0.344131\n",
       "dtype: float64"
      ]
     },
     "execution_count": 93,
     "metadata": {},
     "output_type": "execute_result"
    }
   ],
   "source": [
    "df.skew()"
   ]
  },
  {
   "cell_type": "code",
   "execution_count": 94,
   "metadata": {},
   "outputs": [],
   "source": [
    "y=df['label']"
   ]
  },
  {
   "cell_type": "code",
   "execution_count": 95,
   "metadata": {},
   "outputs": [],
   "source": [
    "x=df.drop('label',axis=1)"
   ]
  },
  {
   "cell_type": "code",
   "execution_count": 96,
   "metadata": {},
   "outputs": [],
   "source": [
    "from sklearn.preprocessing import StandardScaler"
   ]
  },
  {
   "cell_type": "code",
   "execution_count": 97,
   "metadata": {},
   "outputs": [],
   "source": [
    "sc=StandardScaler()"
   ]
  },
  {
   "cell_type": "code",
   "execution_count": 98,
   "metadata": {},
   "outputs": [],
   "source": [
    "x=sc.fit_transform(x)"
   ]
  },
  {
   "cell_type": "code",
   "execution_count": 99,
   "metadata": {},
   "outputs": [],
   "source": [
    "from sklearn.model_selection import train_test_split,GridSearchCV,KFold,cross_val_score"
   ]
  },
  {
   "cell_type": "code",
   "execution_count": 100,
   "metadata": {},
   "outputs": [],
   "source": [
    "x_train,x_test,y_train,y_test=train_test_split(x,y,test_size=0.2)"
   ]
  },
  {
   "cell_type": "code",
   "execution_count": 101,
   "metadata": {},
   "outputs": [],
   "source": [
    "from sklearn.linear_model import LogisticRegression\n",
    "from sklearn.ensemble import RandomForestClassifier\n",
    "from sklearn.metrics import confusion_matrix,accuracy_score,classification_report"
   ]
  },
  {
   "cell_type": "code",
   "execution_count": 102,
   "metadata": {},
   "outputs": [],
   "source": [
    "log_class1 = LogisticRegression()"
   ]
  },
  {
   "cell_type": "code",
   "execution_count": 103,
   "metadata": {},
   "outputs": [],
   "source": [
    "grid_param = {'C':10.0**np.arange(-3,3),'penalty':['l1','l2']}\n",
    "cv = KFold(n_splits=5,shuffle=False,random_state=None)"
   ]
  },
  {
   "cell_type": "code",
   "execution_count": 104,
   "metadata": {},
   "outputs": [],
   "source": [
    "clf = GridSearchCV(log_class1,grid_param,cv=cv,n_jobs=-1,scoring='f1_macro')"
   ]
  },
  {
   "cell_type": "code",
   "execution_count": 105,
   "metadata": {},
   "outputs": [
    {
     "data": {
      "text/plain": [
       "GridSearchCV(cv=KFold(n_splits=5, random_state=None, shuffle=False),\n",
       "             estimator=LogisticRegression(), n_jobs=-1,\n",
       "             param_grid={'C': array([1.e-03, 1.e-02, 1.e-01, 1.e+00, 1.e+01, 1.e+02]),\n",
       "                         'penalty': ['l1', 'l2']},\n",
       "             scoring='f1_macro')"
      ]
     },
     "execution_count": 105,
     "metadata": {},
     "output_type": "execute_result"
    }
   ],
   "source": [
    "clf.fit(x_train,y_train)"
   ]
  },
  {
   "cell_type": "code",
   "execution_count": 106,
   "metadata": {},
   "outputs": [
    {
     "data": {
      "text/plain": [
       "{'C': 1.0, 'penalty': 'l2'}"
      ]
     },
     "execution_count": 106,
     "metadata": {},
     "output_type": "execute_result"
    }
   ],
   "source": [
    "clf.best_params_"
   ]
  },
  {
   "cell_type": "code",
   "execution_count": 107,
   "metadata": {},
   "outputs": [
    {
     "name": "stdout",
     "output_type": "stream",
     "text": [
      "confision metris : \n",
      " [[  883  4354]\n",
      " [  626 36056]]\n",
      "classification report  \n",
      "               precision    recall  f1-score   support\n",
      "\n",
      "           0       0.59      0.17      0.26      5237\n",
      "           1       0.89      0.98      0.94     36682\n",
      "\n",
      "    accuracy                           0.88     41919\n",
      "   macro avg       0.74      0.58      0.60     41919\n",
      "weighted avg       0.85      0.88      0.85     41919\n",
      "\n",
      "accuracy score:  \n",
      " 0.8811994560938954\n"
     ]
    }
   ],
   "source": [
    "log_class1 = LogisticRegression(penalty='l2',C=1.0)\n",
    "\n",
    "training1 = log_class1.fit(x_train,y_train)\n",
    "pred1 = log_class1.predict(x_test)\n",
    "CM1 = confusion_matrix(y_test,pred1)\n",
    "CR1 = classification_report(y_test,pred1)\n",
    "acc1 = accuracy_score(y_test,pred1)\n",
    "\n",
    "print('confision metris :', '\\n', CM1)\n",
    "print('classification report ', '\\n', CR1)\n",
    "print('accuracy score: ', '\\n' , acc1)"
   ]
  },
  {
   "cell_type": "code",
   "execution_count": 108,
   "metadata": {},
   "outputs": [
    {
     "data": {
      "text/plain": [
       "{'C': 1.0, 'penalty': 'l2'}"
      ]
     },
     "execution_count": 108,
     "metadata": {},
     "output_type": "execute_result"
    }
   ],
   "source": [
    "clf.fit(x_train,y_train)\n",
    "clf.best_params_"
   ]
  },
  {
   "cell_type": "code",
   "execution_count": 109,
   "metadata": {},
   "outputs": [
    {
     "name": "stdout",
     "output_type": "stream",
     "text": [
      "confision metris : \n",
      " [[  883  4354]\n",
      " [  626 36056]]\n",
      "classification report  \n",
      "               precision    recall  f1-score   support\n",
      "\n",
      "           0       0.59      0.17      0.26      5237\n",
      "           1       0.89      0.98      0.94     36682\n",
      "\n",
      "    accuracy                           0.88     41919\n",
      "   macro avg       0.74      0.58      0.60     41919\n",
      "weighted avg       0.85      0.88      0.85     41919\n",
      "\n",
      "accuracy score:  \n",
      " 0.8811994560938954\n"
     ]
    }
   ],
   "source": [
    "log_class2 = LogisticRegression(C=1.0,penalty='l2')\n",
    "training2 = log_class2.fit(x_train,y_train)\n",
    "pred2 = log_class2.predict(x_test)\n",
    "CM2 = confusion_matrix(y_test,pred2)\n",
    "CR2 = classification_report(y_test,pred2)\n",
    "acc2 = accuracy_score(y_test,pred2)\n",
    "\n",
    "print('confision metris :', '\\n', CM2)\n",
    "print('classification report ', '\\n', CR2)\n",
    "print('accuracy score: ', '\\n' , acc2)"
   ]
  },
  {
   "cell_type": "code",
   "execution_count": 110,
   "metadata": {},
   "outputs": [],
   "source": [
    "from sklearn.metrics import roc_auc_score,roc_curve\n",
    "y_pred_prob = log_class2.predict_proba(x_test)"
   ]
  },
  {
   "cell_type": "code",
   "execution_count": 111,
   "metadata": {},
   "outputs": [],
   "source": [
    "fpr,tpr,thresholds = roc_curve(y_test,y_pred_prob[:,1])\n",
    "roc_auc = roc_auc_score(y_test,y_pred_prob[:,1])"
   ]
  },
  {
   "cell_type": "code",
   "execution_count": 112,
   "metadata": {},
   "outputs": [
    {
     "name": "stdout",
     "output_type": "stream",
     "text": [
      "ROC AUC = 0.8471626257731283\n"
     ]
    },
    {
     "data": {
      "image/png": "[encoded data removed]",
      "text/plain": [
       "<Figure size 432x288 with 1 Axes>"
      ]
     },
     "metadata": {
      "needs_background": "light"
     },
     "output_type": "display_data"
    }
   ],
   "source": [
    "print('ROC AUC =', roc_auc)\n",
    "plt.figure()\n",
    "lw = 2\n",
    "plt.plot(fpr,tpr,color='red',lw=lw,label='ROC Curve (area = %0.2f)'%roc_auc)\n",
    "plt.plot([0,1],[0,1],color='black',lw=lw,linestyle='--')\n",
    "plt.xlim([0.0, 1.0])\n",
    "plt.ylim([0.0, 1.05])\n",
    "plt.xlabel('FPR')\n",
    "plt.ylabel('TPR')\n",
    "plt.title('Logistic Regression ROC Curve')\n",
    "plt.legend(loc='lower right')\n",
    "plt.show()"
   ]
  },
  {
   "cell_type": "code",
   "execution_count": 113,
   "metadata": {},
   "outputs": [
    {
     "name": "stdout",
     "output_type": "stream",
     "text": [
      "confision metris : \n",
      " [[ 2669  2568]\n",
      " [  763 35919]]\n",
      "classification report  \n",
      "               precision    recall  f1-score   support\n",
      "\n",
      "           0       0.78      0.51      0.62      5237\n",
      "           1       0.93      0.98      0.96     36682\n",
      "\n",
      "    accuracy                           0.92     41919\n",
      "   macro avg       0.86      0.74      0.79     41919\n",
      "weighted avg       0.91      0.92      0.91     41919\n",
      "\n",
      "accuracy score:  \n",
      " 0.920537226555977\n"
     ]
    }
   ],
   "source": [
    "rf_class1 = RandomForestClassifier()\n",
    "rf_model1 = rf_class1.fit(x_train,y_train)\n",
    "rf_pred1 = rf_class1.predict(x_test)\n",
    "rf_CM1 = confusion_matrix(y_test,rf_pred1)\n",
    "rf_CR1 = classification_report(y_test,rf_pred1)\n",
    "rf_acc1 = accuracy_score(y_test,rf_pred1)\n",
    "\n",
    "print('confision metris :', '\\n', rf_CM1)\n",
    "print('classification report ', '\\n', rf_CR1)\n",
    "print('accuracy score: ', '\\n' , rf_acc1)"
   ]
  },
  {
   "cell_type": "code",
   "execution_count": 114,
   "metadata": {},
   "outputs": [],
   "source": [
    "# RandomForestClassifier()\n",
    "grid_param = {'criterion':['gini','entropy'],'max_features':['auto', 'sqrt', 'log2']}\n",
    "cv = KFold(n_splits=3,shuffle=False,random_state=None)"
   ]
  },
  {
   "cell_type": "code",
   "execution_count": 115,
   "metadata": {},
   "outputs": [],
   "source": [
    "rf_clf = GridSearchCV(RandomForestClassifier(),grid_param,cv=cv,n_jobs=-1,scoring='f1_weighted')"
   ]
  },
  {
   "cell_type": "code",
   "execution_count": 116,
   "metadata": {},
   "outputs": [
    {
     "data": {
      "text/plain": [
       "GridSearchCV(cv=KFold(n_splits=3, random_state=None, shuffle=False),\n",
       "             estimator=RandomForestClassifier(), n_jobs=-1,\n",
       "             param_grid={'criterion': ['gini', 'entropy'],\n",
       "                         'max_features': ['auto', 'sqrt', 'log2']},\n",
       "             scoring='f1_weighted')"
      ]
     },
     "execution_count": 116,
     "metadata": {},
     "output_type": "execute_result"
    }
   ],
   "source": [
    "rf_clf.fit(x_train,y_train)"
   ]
  },
  {
   "cell_type": "code",
   "execution_count": 117,
   "metadata": {},
   "outputs": [
    {
     "data": {
      "text/plain": [
       "{'criterion': 'entropy', 'max_features': 'log2'}"
      ]
     },
     "execution_count": 117,
     "metadata": {},
     "output_type": "execute_result"
    }
   ],
   "source": [
    "rf_clf.best_params_"
   ]
  },
  {
   "cell_type": "code",
   "execution_count": 118,
   "metadata": {},
   "outputs": [
    {
     "name": "stdout",
     "output_type": "stream",
     "text": [
      "confision metris : \n",
      " [[ 2690  2547]\n",
      " [  785 35897]]\n",
      "classification report  \n",
      "               precision    recall  f1-score   support\n",
      "\n",
      "           0       0.77      0.51      0.62      5237\n",
      "           1       0.93      0.98      0.96     36682\n",
      "\n",
      "    accuracy                           0.92     41919\n",
      "   macro avg       0.85      0.75      0.79     41919\n",
      "weighted avg       0.91      0.92      0.91     41919\n",
      "\n",
      "accuracy score:  \n",
      " 0.9205133710250721\n"
     ]
    }
   ],
   "source": [
    "rf_class2 = RandomForestClassifier(criterion='entropy',max_features='sqrt')\n",
    "rf_model2 = rf_class2.fit(x_train,y_train)\n",
    "rf_pred2 = rf_class2.predict(x_test)\n",
    "rf_CM2 = confusion_matrix(y_test,rf_pred2)\n",
    "rf_CR2 = classification_report(y_test,rf_pred2)\n",
    "rf_acc2 = accuracy_score(y_test,rf_pred2)\n",
    "\n",
    "print('confision metris :', '\\n', rf_CM2)\n",
    "print('classification report ', '\\n', rf_CR2)\n",
    "print('accuracy score: ', '\\n' , rf_acc2)"
   ]
  },
  {
   "cell_type": "code",
   "execution_count": 119,
   "metadata": {},
   "outputs": [],
   "source": [
    "rf_prob_pred = rf_class2.predict_proba(x_test)"
   ]
  },
  {
   "cell_type": "code",
   "execution_count": 120,
   "metadata": {},
   "outputs": [
    {
     "name": "stdout",
     "output_type": "stream",
     "text": [
      "ROC AUC = 0.9288512262084537\n"
     ]
    },
    {
     "data": {
      "image/png": "[encoded data removed]",
      "text/plain": [
       "<Figure size 432x288 with 1 Axes>"
      ]
     },
     "metadata": {
      "needs_background": "light"
     },
     "output_type": "display_data"
    }
   ],
   "source": [
    "#fpr = false positive rate\n",
    "#tpr = true positive rate\n",
    "#thresholds we set\n",
    "\n",
    "fpr,tpr,thresholds = roc_curve(y_test,rf_prob_pred[:,1])\n",
    "roc_auc = roc_auc_score(y_test,rf_prob_pred[:,1])\n",
    "print('ROC AUC =', roc_auc)\n",
    "plt.figure()\n",
    "lw = 2\n",
    "plt.plot(fpr,tpr,color='red',lw=lw,label='ROC Curve (area = %0.2f)'%roc_auc)\n",
    "plt.plot([0,1],[0,1],color='black',lw=lw,linestyle='--')\n",
    "plt.xlim([0.0, 1.0])\n",
    "plt.ylim([0.0, 1.05])\n",
    "plt.xlabel('FPR')\n",
    "plt.ylabel('TPR')\n",
    "plt.title('ROC Curve Random Forest')\n",
    "plt.legend(loc='lower right')\n",
    "plt.show()"
   ]
  },
  {
   "cell_type": "code",
   "execution_count": 121,
   "metadata": {},
   "outputs": [],
   "source": [
    "from sklearn.naive_bayes import GaussianNB"
   ]
  },
  {
   "cell_type": "code",
   "execution_count": 122,
   "metadata": {},
   "outputs": [],
   "source": [
    "gnb = GaussianNB()\n",
    "gn_model1 = gnb.fit(x_train,y_train)\n",
    "gn_pred1 = gnb.predict(x_test)"
   ]
  },
  {
   "cell_type": "code",
   "execution_count": 123,
   "metadata": {},
   "outputs": [
    {
     "name": "stdout",
     "output_type": "stream",
     "text": [
      "confision metris : \n",
      " [[ 4067  1170]\n",
      " [ 9845 26837]]\n",
      "classification report  \n",
      "               precision    recall  f1-score   support\n",
      "\n",
      "           0       0.29      0.78      0.42      5237\n",
      "           1       0.96      0.73      0.83     36682\n",
      "\n",
      "    accuracy                           0.74     41919\n",
      "   macro avg       0.63      0.75      0.63     41919\n",
      "weighted avg       0.88      0.74      0.78     41919\n",
      "\n",
      "accuracy score:  \n",
      " 0.7372313270831843\n"
     ]
    }
   ],
   "source": [
    "gn_CM1 = confusion_matrix(y_test,gn_pred1)\n",
    "gn_CR1 = classification_report(y_test,gn_pred1)\n",
    "gn_acc1 = accuracy_score(y_test,gn_pred1)\n",
    "\n",
    "print('confision metris :', '\\n', gn_CM1)\n",
    "print('classification report ', '\\n', gn_CR1)\n",
    "print('accuracy score: ', '\\n' , gn_acc1)"
   ]
  },
  {
   "cell_type": "markdown",
   "metadata": {},
   "source": [
    "# From all the above model Random Forest Classifier performed very well with this imbalanced data."
   ]
  },
  {
   "cell_type": "code",
   "execution_count": 124,
   "metadata": {},
   "outputs": [
    {
     "name": "stdout",
     "output_type": "stream",
     "text": [
      "confision metris : \n",
      " [[ 2689  2548]\n",
      " [  799 35883]]\n",
      "classification report  \n",
      "               precision    recall  f1-score   support\n",
      "\n",
      "           0       0.77      0.51      0.62      5237\n",
      "           1       0.93      0.98      0.96     36682\n",
      "\n",
      "    accuracy                           0.92     41919\n",
      "   macro avg       0.85      0.75      0.79     41919\n",
      "weighted avg       0.91      0.92      0.91     41919\n",
      "\n",
      "accuracy score:  \n",
      " 0.9201555380614995\n"
     ]
    }
   ],
   "source": [
    "#Final model\n",
    "rf_class2 = RandomForestClassifier(criterion='entropy',max_features='sqrt')\n",
    "rf_model2 = rf_class2.fit(x_train,y_train)\n",
    "rf_pred2 = rf_class2.predict(x_test)\n",
    "rf_CM2 = confusion_matrix(y_test,rf_pred2)\n",
    "rf_CR2 = classification_report(y_test,rf_pred2)\n",
    "rf_acc2 = accuracy_score(y_test,rf_pred2)\n",
    "\n",
    "print('confision metris :', '\\n', rf_CM2)\n",
    "print('classification report ', '\\n', rf_CR2)\n",
    "print('accuracy score: ', '\\n' , rf_acc2)"
   ]
  },
  {
   "cell_type": "code",
   "execution_count": 125,
   "metadata": {},
   "outputs": [],
   "source": [
    "rf_prob_pred = rf_class2.predict_proba(x_test)"
   ]
  },
  {
   "cell_type": "code",
   "execution_count": 126,
   "metadata": {},
   "outputs": [
    {
     "name": "stdout",
     "output_type": "stream",
     "text": [
      "ROC AUC = 0.9281410704599165\n"
     ]
    },
    {
     "data": {
      "image/png": "[encoded data removed]",
      "text/plain": [
       "<Figure size 432x288 with 1 Axes>"
      ]
     },
     "metadata": {
      "needs_background": "light"
     },
     "output_type": "display_data"
    }
   ],
   "source": [
    "#fpr = false positive rate\n",
    "#tpr = true positive rate\n",
    "#thresholds we set\n",
    "\n",
    "fpr,tpr,thresholds = roc_curve(y_test,rf_prob_pred[:,1])\n",
    "roc_auc = roc_auc_score(y_test,rf_prob_pred[:,1])\n",
    "print('ROC AUC =', roc_auc)\n",
    "plt.figure()\n",
    "lw = 2\n",
    "plt.plot(fpr,tpr,color='red',lw=lw,label='ROC Curve (area = %0.2f)'%roc_auc)\n",
    "plt.plot([0,1],[0,1],color='black',lw=lw,linestyle='--')\n",
    "plt.xlim([0.0, 1.0])\n",
    "plt.ylim([0.0, 1.05])\n",
    "plt.xlabel('FPR')\n",
    "plt.ylabel('TPR')\n",
    "plt.title('ROC Curve Random Forest')\n",
    "plt.legend(loc='lower right')\n",
    "plt.show()"
   ]
  },
  {
   "cell_type": "code",
   "execution_count": 127,
   "metadata": {},
   "outputs": [
    {
     "data": {
      "image/png": "[encoded data removed]",
      "text/plain": [
       "<Figure size 432x288 with 2 Axes>"
      ]
     },
     "metadata": {
      "needs_background": "light"
     },
     "output_type": "display_data"
    }
   ],
   "source": [
    "sns.heatmap(rf_CM2,annot=True, fmt='d')\n",
    "plt.ylabel('Actual')\n",
    "plt.xlabel('Predicted')\n",
    "plt.show()"
   ]
  },
  {
   "cell_type": "code",
   "execution_count": 128,
   "metadata": {},
   "outputs": [],
   "source": [
    "import pickle"
   ]
  },
  {
   "cell_type": "code",
   "execution_count": 129,
   "metadata": {},
   "outputs": [],
   "source": [
    "filename='Micro_credit.pkl'\n",
    "pickle.dump(rf_class2,open(filename,'wb'))"
   ]
  },
  {
   "cell_type": "markdown",
   "metadata": {},
   "source": [
    "# Thanks"
   ]
  },
  {
   "cell_type": "code",
   "execution_count": null,
   "metadata": {},
   "outputs": [],
   "source": []
  }
 ],
 "metadata": {
  "kernelspec": {
   "display_name": "Python 3 (ipykernel)",
   "language": "python",
   "name": "python3"
  },
  "language_info": {
   "codemirror_mode": {
    "name": "ipython",
    "version": 3
   },
   "file_extension": ".py",
   "mimetype": "text/x-python",
   "name": "python",
   "nbconvert_exporter": "python",
   "pygments_lexer": "ipython3",
   "version": "3.9.12"
  }
 },
 "nbformat": 4,
 "nbformat_minor": 4
}
